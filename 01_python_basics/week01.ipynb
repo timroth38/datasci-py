{
 "cells": [
  {
   "cell_type": "markdown",
   "metadata": {},
   "source": [
    "# Week 01: Python basics\n",
    "\n",
    "This week's learning goals are as follows:\n",
    "\n",
    "1. Be able to use jupyter notebooks to run short snippets of code\n",
    "1. Review basics of programming\n",
    "1. Import and use common packages.\n",
    "1. Understand the difference between python scripts and jupyter notebooks and use both.\n",
    "1. Manipulate lists."
   ]
  },
  {
   "cell_type": "markdown",
   "metadata": {},
   "source": [
    "## 1. iPython overview\n",
    "\n",
    "Jupyter notebooks are a comprehensive way to write documentation, run snippets of code, and check output of code, all in an easy to read format. Snippetes are written in modules called ```cells```, and you can add and delete cells. The format of a notebook is often linear, from top to bottom; a developer expects you to run earlier cells before running current cells.\n",
    "\n",
    "There are two main types of cells in these notebooks: Markdown, and code. Markdown is a format to write bullets, headings, etc., similar to Google Docs. Code is by default Python 3 code (as you installed it in Conda); you can verify this by checking the top-right corner of this browser.\n",
    "\n",
    "* To create a new cells, click the plus sign on the top left. Once you click on a cell, you can edit its type: Markdown or Cell (there's a dropdown on the menu bar).\n",
    "\n",
    "* To ''execute'' or ''run'' a cell, type < Ctrl > + < Enter >.\n",
    "    \n",
    "* To edit a cell, double click on it.\n",
    "\n",
    "* To remove a cell, go to 'Edit'->'Delete Cells'.\n",
    "\n",
    "* **To save your work**, < Ctrl > + s (< Command > + s on Mac).\n",
    "\n",
    "* To move between adjacent cells, use the arrow keys.\n",
    "\n",
    "If anything goes wrong, go to 'Kernel'->'Restart'. Note that if you exit out of the ```jupyter notebook``` window that you used to launch this window in the browser, then the underlying python kernel (the thing that's listening and running your code in this notebook) will die, and you will need to exit + relaunch jupyter from the command line.\n",
    "\n",
    "### Your first program\n",
    "\n",
    "In the code cell below, type in the following and run your first snippet.\n",
    "```\n",
    "print('Hello world!')\n",
    "```"
   ]
  },
  {
   "cell_type": "code",
   "execution_count": null,
   "metadata": {},
   "outputs": [],
   "source": [
    "# This is a comment in Python, prefixed by a 'pound' sign. \n",
    "# Write your code below this line.\n"
   ]
  },
  {
   "cell_type": "markdown",
   "metadata": {},
   "source": [
    "### Your first Markdown\n",
    "\n",
    "Change the code cell to a markdown cell. Then create a bulleted list of your choosing. If you need help with figuring out how to make bullets, you can double click on the Markdown in introduction and see what I did. Then run your snippet like you did before."
   ]
  },
  {
   "cell_type": "code",
   "execution_count": null,
   "metadata": {},
   "outputs": [],
   "source": [
    "# Turn this code cell into a markdown cell and make a bulleted list of your choosing."
   ]
  },
  {
   "cell_type": "markdown",
   "metadata": {},
   "source": [
    "## 2.  Basics of programming\n",
    "\n",
    "Programming (for the purposes of this course) is all about three things:\n",
    "* Variables: a box to store some information.\n",
    "* Functions:  a block of organized, reusable code that is used to perform a single, related action.\n",
    "* Control flow: a way to choose what code to run"
   ]
  },
  {
   "cell_type": "markdown",
   "metadata": {},
   "source": [
    "### Variables\n",
    "\n",
    "In Python, variables can be anything: integers, decimal numbers, strings or characters, abstract lookup tables, lists, and even functions. We'll see how this works in a few exercises.\n",
    "\n",
    "Note how the following code contains no variables; we simply run it and it outputs a value."
   ]
  },
  {
   "cell_type": "code",
   "execution_count": null,
   "metadata": {},
   "outputs": [],
   "source": [
    "# Run this code\n",
    "2 + 3"
   ]
  },
  {
   "cell_type": "markdown",
   "metadata": {},
   "source": [
    "However, variables allow us to store state, which is especially useful when we want to reuse that state for something else. Take the below code for example:"
   ]
  },
  {
   "cell_type": "code",
   "execution_count": null,
   "metadata": {},
   "outputs": [],
   "source": [
    "x = 2\n",
    "y = 3\n",
    "z = 4\n",
    "print('The sum of x and y is', x + y)\n",
    "print('The product of x and z is', x * z)\n",
    "print('Another way to print stuff is to use the addition operator ' + 'like so')"
   ]
  },
  {
   "cell_type": "markdown",
   "metadata": {},
   "source": [
    "There are a few different types of variables that we need to remember:"
   ]
  },
  {
   "cell_type": "code",
   "execution_count": null,
   "metadata": {},
   "outputs": [],
   "source": [
    "# left hand side: variable name\n",
    "# right hand side: the value to store inside the variable\n",
    "x = -2 # an integer\n",
    "x_pos = 5 # another integer\n",
    "y = 3.0 # a float (floating point, aka not a whole number)\n",
    "c = 'c' # a character\n",
    "l = [1,2,3,4] # a list\n",
    "s = 'hello friends' # a string\n",
    "b = True # a boolean, aka True or False"
   ]
  },
  {
   "cell_type": "code",
   "execution_count": null,
   "metadata": {},
   "outputs": [],
   "source": [
    "# If a variable isn't defined yet, then Python will throw an error\n",
    "print(asdfvariable)"
   ]
  },
  {
   "cell_type": "code",
   "execution_count": null,
   "metadata": {},
   "outputs": [],
   "source": [
    "'''\n",
    "This is a multi-line comment, started and ended with three apostrophes in a row.\n",
    "**Important note:** The variables that we defined \n",
    "   in a different cell still carry over to this cell.\n",
    "'''\n",
    "# Use this cell to see how the different types interact. I've written a few examples for you.\n",
    "print(x + y)\n",
    "print(x * y)\n",
    "\n",
    "# We'll cover string manipulation more next week, but here's a sneak peek\n",
    "print(x_pos * c)\n",
    "print(s + c)"
   ]
  },
  {
   "cell_type": "code",
   "execution_count": null,
   "metadata": {},
   "outputs": [],
   "source": [
    "# Sometimes python runs into errors when it can't combine things. For example:\n",
    "print(l + s)"
   ]
  },
  {
   "cell_type": "markdown",
   "metadata": {},
   "source": [
    "**Common operations** you'll find are below."
   ]
  },
  {
   "cell_type": "code",
   "execution_count": null,
   "metadata": {},
   "outputs": [],
   "source": [
    "# You can convert between types. This is useful.\n",
    "print('an integer', x, 'vs a float of the same integer', float(x))\n",
    "print('These produce the same value', 1/3, 1/float(3), 'but only in Python 3')\n",
    "print()\n",
    "print('We can also convert strings to lists')\n",
    "print(s)\n",
    "print(list(s))"
   ]
  },
  {
   "cell_type": "code",
   "execution_count": 11,
   "metadata": {},
   "outputs": [
    {
     "name": "stdout",
     "output_type": "stream",
     "text": [
      "20 % 5 is 0\n",
      "22 % 5 is 2\n"
     ]
    }
   ],
   "source": [
    "# The modulo operation finds the remainder.\n",
    "print('20 % 5 is', 20 % 5)\n",
    "print('22 % 5 is', 22 % 5)"
   ]
  },
  {
   "cell_type": "code",
   "execution_count": 13,
   "metadata": {},
   "outputs": [
    {
     "name": "stdout",
     "output_type": "stream",
     "text": [
      "1. 10\n",
      "2. 15\n",
      "3. -15\n",
      "4. -19\n",
      "5. 6.333333333333333\n"
     ]
    }
   ],
   "source": [
    "# You can update and assign variables\n",
    "x = 10\n",
    "print('1.', x)\n",
    "x += 5\n",
    "print('2.', x)\n",
    "x *= -1\n",
    "print('3.', x)\n",
    "x -= 4\n",
    "print('4.', x)\n",
    "x *= -1\n",
    "x /= 3\n",
    "print('5.', x)"
   ]
  },
  {
   "cell_type": "code",
   "execution_count": 10,
   "metadata": {},
   "outputs": [
    {
     "name": "stdout",
     "output_type": "stream",
     "text": [
      "not b1:  False\n",
      "b1 and b2: only true if both are true: False\n",
      "b1 and not b2: True\n",
      "b1 or b2: true if either b1 or b2 are true: True\n",
      "Use parentheses if you care about order of operations: True False\n"
     ]
    }
   ],
   "source": [
    "# Booleans are fun\n",
    "b1 = True\n",
    "b2 = False\n",
    "print('not b1: ', not b1)\n",
    "print('b1 and b2: only true if both are true:', b1 and b2)\n",
    "print('b1 and not b2:', b1 and (not b2))\n",
    "print('b1 or b2: true if either b1 or b2 are true:', b1 or b2)\n",
    "print('Use parentheses if you care about order of operations:', not b2 or b1, not (b2 or b1))"
   ]
  },
  {
   "cell_type": "markdown",
   "metadata": {},
   "source": [
    "### Functions\n",
    "\n",
    "The main value of a function is reusability. It can also take in input and produce some output.\n",
    "\n",
    "Note that in the below code, we have a few functions that have varying amounts of input and output. Also note that when we run the first cell, nothing actually gets output. That's because we're simply defining the functions; the Python kernel is processing the information that the function corresponds to. In the next few cells, when we run the functions, the Python kernel looks up the names of functions that were previously defined."
   ]
  },
  {
   "cell_type": "code",
   "execution_count": null,
   "metadata": {},
   "outputs": [],
   "source": [
    "def no_parameters_just_do_it():\n",
    "    print(\"Your life is pretty average, don\\'t worry\")\n",
    "    \n",
    "def single_parameter_no_output(x):\n",
    "    print('The value of our input is', x) # note either single/double quotes are ok\n",
    "    \n",
    "def single_input_single_output(whatever_name_you_want):\n",
    "    print('This function multiplies the input by 2', whatever_name_you_want)\n",
    "    return 2 * whatever_name_you_want\n",
    "\n",
    "# this function will work with lists and strings because it's Python\n",
    "def length_times_four(s):\n",
    "    s_len = len(s) # defines a new variable\n",
    "    return s_len*4 # returns something to the caller\n"
   ]
  },
  {
   "cell_type": "code",
   "execution_count": null,
   "metadata": {},
   "outputs": [],
   "source": [
    "no_parameters_just_do_it()"
   ]
  },
  {
   "cell_type": "code",
   "execution_count": null,
   "metadata": {},
   "outputs": [],
   "source": [
    "single_parameter_no_output(3)\n",
    "single_parameter_no_output('asdf')\n",
    "single_parameter_no_output([1,2,3,4])\n",
    "x = 5\n",
    "single_parameter_no_output(x)"
   ]
  },
  {
   "cell_type": "markdown",
   "metadata": {},
   "source": [
    "When you try to save a non-existent output to a variable, you get the ```None``` special keyword:"
   ]
  },
  {
   "cell_type": "code",
   "execution_count": null,
   "metadata": {},
   "outputs": [],
   "source": [
    "y = no_parameters_just_do_it()\n",
    "print(\"What is my return value?\", y)"
   ]
  },
  {
   "cell_type": "code",
   "execution_count": null,
   "metadata": {},
   "outputs": [],
   "source": [
    "out = single_input_single_output(123) # output not printed\n",
    "print(out) # now it prints\n",
    "out = single_input_single_output(x) # output not printed\n",
    "print(out) # now it prints\n",
    "single_input_single_output([2,3,4]) # output printed because it's the last line"
   ]
  },
  {
   "cell_type": "code",
   "execution_count": null,
   "metadata": {},
   "outputs": [],
   "source": [
    "length_times_four('This will not be printed because we didn\\'t pass the return value to print')\n",
    "\n",
    "print(length_times_four('asdf'))\n",
    "y = length_times_four([2,3,4])\n",
    "print(y)"
   ]
  },
  {
   "cell_type": "markdown",
   "metadata": {},
   "source": [
    "__Programming Exercises__\n",
    "\n",
    "In the cells below: \n",
    "\n",
    "1. Fill in the ```negation``` function, which returns the negative of its input.\n",
    "\n",
    "1. Write a ```square``` function that returns the square of its input.\n"
   ]
  },
  {
   "cell_type": "code",
   "execution_count": null,
   "metadata": {},
   "outputs": [],
   "source": [
    "def negation(input_value):\n",
    "    return 0 # delete this line and write your code\n",
    "\n",
    "# Test your function"
   ]
  },
  {
   "cell_type": "code",
   "execution_count": null,
   "metadata": {},
   "outputs": [],
   "source": [
    "# Write your function\n",
    "\n",
    "# Test your function\n"
   ]
  },
  {
   "cell_type": "markdown",
   "metadata": {},
   "source": [
    "### Control flow\n",
    "\n",
    "We talked about booleans earlier (which can either be ```True``` or ```False```), right? Control flow is all about booleans.\n",
    "\n",
    "There are if-else statements that are executed only once. And there are for/while loops that will execute the same code multiple times until a condition is satisfied."
   ]
  },
  {
   "cell_type": "code",
   "execution_count": 14,
   "metadata": {},
   "outputs": [],
   "source": [
    "# if"
   ]
  },
  {
   "cell_type": "code",
   "execution_count": null,
   "metadata": {},
   "outputs": [],
   "source": [
    "# if else"
   ]
  },
  {
   "cell_type": "code",
   "execution_count": null,
   "metadata": {},
   "outputs": [],
   "source": [
    "# if elif else"
   ]
  },
  {
   "cell_type": "code",
   "execution_count": null,
   "metadata": {},
   "outputs": [],
   "source": [
    "# for loop"
   ]
  },
  {
   "cell_type": "code",
   "execution_count": null,
   "metadata": {},
   "outputs": [],
   "source": [
    "# while loop"
   ]
  },
  {
   "cell_type": "markdown",
   "metadata": {},
   "source": [
    "### Exercises\n",
    "\n",
    "1. Write an ```is_odd``` function that takes input n and returns ```True``` only if n is an odd number.\n",
    "1. Write a ```factorial``` function that takes input n and returns n!."
   ]
  },
  {
   "cell_type": "code",
   "execution_count": 2,
   "metadata": {},
   "outputs": [],
   "source": [
    "# Write your function\n",
    "\n",
    "# Test your function\n"
   ]
  },
  {
   "cell_type": "markdown",
   "metadata": {},
   "source": [
    "### Scope\n",
    "\n",
    "Python is a scoped language. This means that variables exist in environments. So if you define a variable within a function, that variable will not be available outside the function. However, if you define a variable within a control structure, it is still considered in the same environment as what is outside of the control structure. So keeping these things separate is often a huge headache for programmers."
   ]
  },
  {
   "cell_type": "code",
   "execution_count": null,
   "metadata": {},
   "outputs": [],
   "source": [
    "def scoped(w): # w defined here\n",
    "    x = w\n",
    "    x = x + 3 # doesn't change the value of w\n",
    "    x *= 2 # same thing as x = x * 2\n",
    "    return x\n",
    "\n",
    "x = 4\n",
    "print('x before the function', x)\n",
    "z = scoped(x)\n",
    "print(\"function's output is\", z)\n",
    "print('x after the function is still the current scope\\'s x', x)\n",
    "print(\"w is not accessible outside of the function\")\n",
    "print(w)"
   ]
  },
  {
   "cell_type": "code",
   "execution_count": null,
   "metadata": {},
   "outputs": [],
   "source": [
    "for i in range(6):\n",
    "    j = 0\n",
    "    pass # a line that doesn't do anything\n",
    "\n",
    "print(i) # the most recent value of i\n",
    "print(j) # defined inside the loop"
   ]
  },
  {
   "cell_type": "markdown",
   "metadata": {},
   "source": [
    "## 3. Common packages\n",
    "\n",
    "For data science, the most common thing we'll do is read in files and write out other files. And there are some python libraries (aka packages) that we import to be able to do all of these things. The most important one is ```os```, which allows us to manipulate and work with the local directory system on our machine.\n",
    "\n",
    "You usually have to run the below cell once for all notebooks. For future notebooks (and as is the standard), this cell will be the first cell you run."
   ]
  },
  {
   "cell_type": "code",
   "execution_count": 18,
   "metadata": {},
   "outputs": [],
   "source": [
    "import os\n",
    "import time # because why not"
   ]
  },
  {
   "cell_type": "code",
   "execution_count": 17,
   "metadata": {},
   "outputs": [
    {
     "data": {
      "text/plain": [
       "1526255015.1849039"
      ]
     },
     "execution_count": 17,
     "metadata": {},
     "output_type": "execute_result"
    }
   ],
   "source": []
  },
  {
   "cell_type": "markdown",
   "metadata": {},
   "source": [
    "## 4. Python scripts"
   ]
  },
  {
   "cell_type": "markdown",
   "metadata": {},
   "source": [
    "## 5. Lists"
   ]
  },
  {
   "cell_type": "markdown",
   "metadata": {},
   "source": [
    "### Lists and state\n",
    "\n",
    "You may have noticed at this point that changes to integer variables within functions don't actually change what's stored in that variable."
   ]
  },
  {
   "cell_type": "code",
   "execution_count": null,
   "metadata": {},
   "outputs": [],
   "source": [
    "def unchanged_var(x):\n",
    "    x = 3\n",
    "x = 11\n",
    "print('value of x before', x)\n",
    "unchanged_var(x)\n",
    "print('value of x after', x)"
   ]
  },
  {
   "cell_type": "code",
   "execution_count": null,
   "metadata": {},
   "outputs": [],
   "source": [
    "# map\n",
    "# filter\n",
    "# reduce\n",
    "# list manipulation and stuff"
   ]
  },
  {
   "cell_type": "code",
   "execution_count": null,
   "metadata": {},
   "outputs": [],
   "source": [
    "# range in more detail"
   ]
  },
  {
   "cell_type": "raw",
   "metadata": {},
   "source": []
  },
  {
   "cell_type": "markdown",
   "metadata": {},
   "source": [
    "## 6. Homework"
   ]
  }
 ],
 "metadata": {
  "kernelspec": {
   "display_name": "Python 3",
   "language": "python",
   "name": "python3"
  },
  "language_info": {
   "codemirror_mode": {
    "name": "ipython",
    "version": 3
   },
   "file_extension": ".py",
   "mimetype": "text/x-python",
   "name": "python",
   "nbconvert_exporter": "python",
   "pygments_lexer": "ipython3",
   "version": "3.6.5"
  }
 },
 "nbformat": 4,
 "nbformat_minor": 2
}
