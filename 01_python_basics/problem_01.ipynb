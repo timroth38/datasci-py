{
 "cells": [
  {
   "cell_type": "code",
   "execution_count": 3,
   "metadata": {},
   "outputs": [],
   "source": [
    "# the following code guarantees you'll properly reload any modules that you custom-defined in your environment.\n",
    "# you don't need to understand it.\n",
    "# just run this once at the beginning.\n",
    "# for auto-reloading extenrnal modules\n",
    "# see http://stackoverflow.com/questions/1907993/autoreload-of-modules-in-ipython\n",
    "%load_ext autoreload\n",
    "%autoreload 2"
   ]
  },
  {
   "cell_type": "code",
   "execution_count": 4,
   "metadata": {},
   "outputs": [],
   "source": [
    "# imports the functions from util.py\n",
    "from util import *\n",
    "\n",
    "# **note** if you ever modify the util.py file, you will need to rerun this cell\n",
    "# (aka you gotta for Exercise 2)"
   ]
  },
  {
   "cell_type": "markdown",
   "metadata": {},
   "source": [
    "# Importing and basic python"
   ]
  },
  {
   "cell_type": "markdown",
   "metadata": {},
   "source": [
    "## Exercise 1"
   ]
  },
  {
   "cell_type": "code",
   "execution_count": 36,
   "metadata": {},
   "outputs": [
    {
     "data": {
      "text/plain": [
       "5"
      ]
     },
     "execution_count": 36,
     "metadata": {},
     "output_type": "execute_result"
    }
   ],
   "source": [
    "# Call the max_list_positive function on the below list.\n",
    "# The max_list_positive function is located in util.py.\n",
    "target_list = [4, 3, 5, 1]\n",
    "# your code below this line\n",
    "max_list_positive(target_list)"
   ]
  },
  {
   "cell_type": "markdown",
   "metadata": {},
   "source": [
    "## Exercise 2"
   ]
  },
  {
   "cell_type": "code",
   "execution_count": null,
   "metadata": {},
   "outputs": [],
   "source": [
    "# Fill out the simple_max_list function in util.py.\n",
    "# Rerun the first cell (the one that imports util)\n",
    "# Run the simple_max_list function on the target_list in the previous cell (you don't need to rerun the previous cell)\n",
    "\n",
    "# your code below this line"
   ]
  },
  {
   "cell_type": "markdown",
   "metadata": {},
   "source": [
    "## Exercise 3"
   ]
  },
  {
   "cell_type": "code",
   "execution_count": 44,
   "metadata": {},
   "outputs": [
    {
     "name": "stdout",
     "output_type": "stream",
     "text": [
      "[0, 58, 3, 48]\n",
      "[0, 58, 3, 48]\n",
      "[0, 58, 3, 48]\n"
     ]
    }
   ],
   "source": [
    "# Fill in the following functions that returns every other element,\n",
    "# starting from the first element.\n",
    "def every_other_element_for(items):\n",
    "    # use a for loop and a variable that stores a list\n",
    "    everyother = []\n",
    "    for i in range(len(items)):\n",
    "        if i % 2 == 0:\n",
    "            everyother.append(items[i])\n",
    "    return everyother\n",
    "print(every_other_element_for([0, 5, 58, 67, 3, 33, 48]))\n",
    "\n",
    "def every_other_element_oneline(items):\n",
    "    # use list indexing.\n",
    "    newlist = [items[i] for i in range(len(items)) if i % 2 == 0]\n",
    "    return newlist\n",
    "\n",
    "def every_other_element_oneline_better(items):\n",
    "    return items[::2]\n",
    "\n",
    "print(every_other_element_oneline_better([0, 5, 58, 67, 3, 33, 48]))\n",
    "\n",
    "print(every_other_element_oneline([0, 5, 58, 67, 3, 33, 48]))"
   ]
  },
  {
   "cell_type": "markdown",
   "metadata": {},
   "source": [
    "## Exercise 4"
   ]
  },
  {
   "cell_type": "code",
   "execution_count": 11,
   "metadata": {},
   "outputs": [
    {
     "name": "stdout",
     "output_type": "stream",
     "text": [
      "[-4, -3, -5, -1]\n"
     ]
    }
   ],
   "source": [
    "def multiply_list(items, factor):\n",
    "    # write a function that multiples every item in your list by the factor.\n",
    "    # use list indexing, not a for loop\n",
    "    newlist = [factor * item for item in items]\n",
    "    return newlist\n"
   ]
  },
  {
   "cell_type": "code",
   "execution_count": 35,
   "metadata": {},
   "outputs": [
    {
     "name": "stdout",
     "output_type": "stream",
     "text": [
      "[0, 1, 5, 3, 4]\n"
     ]
    }
   ],
   "source": [
    "\n",
    "# Fill in the following functions that returns your list with all the elements reversed.\n",
    "def reverse_for(items):\n",
    "    # use a for loop\n",
    "    # return a new list with all the elements of the initial list reversed\n",
    "    outlist=[]\n",
    "    for i in range(len(items)):\n",
    "        outlist.append(items[-(i+1)])\n",
    "    return outlist\n",
    "\n",
    "    \n",
    "\n",
    "def reverse_for_inplace(items):\n",
    "    # use a for loop\n",
    "    # do not create a new variable storing a list; I want the original list\n",
    "    # with all the elements reversed\n",
    "    # you can create other intermediate variables though\n",
    "    # hint: use list indexing to set items[0] = items[some other element]\n",
    "    for i in range(int(len(items)/2)):\n",
    "        temp = items[i]\n",
    "        items[i] = items[-(i+1)]\n",
    "        items[-(i+1)] = temp\n",
    "    return items\n",
    "\n",
    "def every_other_element_oneline(items):\n",
    "    # use list indexing and return a new list with all the elements reversed.\n",
    "    revlist = [items[-(i+1)] for i in range(len(items))]\n",
    "    return revlist\n",
    "\n"
   ]
  },
  {
   "cell_type": "code",
   "execution_count": null,
   "metadata": {},
   "outputs": [],
   "source": [
    "# your test cases here.\n",
    "# remember, if you don't use print() then sometimes your values might not get output."
   ]
  },
  {
   "cell_type": "markdown",
   "metadata": {},
   "source": [
    "## Exercise 5"
   ]
  },
  {
   "cell_type": "code",
   "execution_count": 38,
   "metadata": {},
   "outputs": [
    {
     "name": "stdout",
     "output_type": "stream",
     "text": [
      "[-1, 1, 2, 3, 4, 4, 5]\n"
     ]
    }
   ],
   "source": [
    "# https://docs.python.org/3/howto/sorting.html\n",
    "# use the sorted keyword to sort a list, where the sorted version is a new list.\n",
    "items = [2,3,4,5,-1,1,4]\n",
    "# use sorted below this line\n",
    "\n",
    "print(sorted(items))\n",
    "# now, use the items.sort() keyword to sort the list inplace.\n",
    "# This function does not return a list.\n",
    "# use items.sort() below this line\n",
    "\n",
    "items.sort()"
   ]
  },
  {
   "cell_type": "markdown",
   "metadata": {},
   "source": [
    "## Exercise 5"
   ]
  },
  {
   "cell_type": "code",
   "execution_count": 41,
   "metadata": {},
   "outputs": [
    {
     "name": "stdout",
     "output_type": "stream",
     "text": [
      "2.5714285714285716\n"
     ]
    }
   ],
   "source": [
    "# write a function that returns the mean of this list.\n",
    "def mean_singleline(items):\n",
    "    # solve this in one line.\n",
    "    # hint: use sum(<insert list>) and len(<insert list>).\n",
    "    return sum(items)/len(items)\n",
    "\n",
    "print(mean_singleline(items))"
   ]
  },
  {
   "cell_type": "markdown",
   "metadata": {},
   "source": [
    "## Exercise 6"
   ]
  },
  {
   "cell_type": "code",
   "execution_count": 48,
   "metadata": {},
   "outputs": [
    {
     "name": "stdout",
     "output_type": "stream",
     "text": [
      "[0.1, 0.15, 0.2, 0.25, -0.05, 0.05, 0.2]\n",
      "[0.1, 0.15, 0.2, 0.25, -0.05, 0.05, 0.2]\n"
     ]
    }
   ],
   "source": [
    "items = [2,3,4,5,-1,1,4]\n",
    "# write a function that normalizes a list by the sum of the absolute values of\n",
    "# all elements in the list.\n",
    "def normalize_for(items):\n",
    "    # use a for loop\n",
    "    # return a new list\n",
    "    templist = [] + items\n",
    "    for i in range(len(templist)):\n",
    "        if templist[i] < 0:\n",
    "            templist[i] *= -1\n",
    "    return [i/sum(templist) for i in items]\n",
    "\n",
    "print(normalize_for(items))\n",
    "def normalize_oneline(items):\n",
    "    # use list comprehension, not a for loop\n",
    "    # hint: use an intermediate variable which uses sum(<insert list>)\n",
    "    return [i/sum(abs(items)) for i in items]\n",
    "\n",
    "print (normalize_for(items))"
   ]
  },
  {
   "cell_type": "markdown",
   "metadata": {},
   "source": [
    "## Exercise 7\n",
    "\n",
    "Note: this exercise is harder than the other ones because it requires you to understand list comprehension."
   ]
  },
  {
   "cell_type": "code",
   "execution_count": 81,
   "metadata": {},
   "outputs": [
    {
     "name": "stdout",
     "output_type": "stream",
     "text": [
      "[]\n",
      "invalid indices\n",
      "None\n"
     ]
    }
   ],
   "source": [
    "# write a function that takes in two list arguments, items and indices\n",
    "# and returns a list containing only the indexed values from items.\n",
    "def indexer(items, indices):\n",
    "    # after you verify that indices is a valid list of indices\n",
    "    # for the given items list,\n",
    "    if sorted(indices)[-1] >= len(items) or sorted(indices)[0] < 0:\n",
    "        return print('invalid indices')\n",
    "    # use a single line\n",
    "    # hint: use list comprehension\n",
    "    return [item for i, item in enumerate(items) if i == (j for j in indices)]\n",
    "\n",
<<<<<<< HEAD
    "print(indexer([3,5,6,6], [0,1])) # should return [3, 5]\n",
    "print(indexer([3,4,5], [3])) # should error out in a way you choose"
=======
    "indexer([3,5,6,6], [0,1]) # should return [3, 5]\n",
    "indexer([3,4,5], [4]) # should error out in a way you choose"
>>>>>>> upstream/master
   ]
  }
 ],
 "metadata": {
  "kernelspec": {
   "display_name": "Python 3",
   "language": "python",
   "name": "python3"
  },
  "language_info": {
   "codemirror_mode": {
    "name": "ipython",
    "version": 3
   },
   "file_extension": ".py",
   "mimetype": "text/x-python",
   "name": "python",
   "nbconvert_exporter": "python",
   "pygments_lexer": "ipython3",
   "version": "3.6.4"
  }
 },
 "nbformat": 4,
 "nbformat_minor": 2
}
