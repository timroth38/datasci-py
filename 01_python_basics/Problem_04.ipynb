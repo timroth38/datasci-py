{
 "cells": [
  {
   "cell_type": "markdown",
   "metadata": {},
   "source": [
    "'''\n",
    "Write out a program that recursively crawls a target directory\n",
    "and lists out all the subdirectories, files, and folders.\n",
    "\n",
    "Once the program is done executing, it should be in the same\n",
    "directory from which the python program was run. You do not have\n",
    "to change directories to solve this problem.\n",
    "'''"
   ]
  },
  {
   "cell_type": "code",
   "execution_count": 168,
   "metadata": {},
   "outputs": [
    {
     "name": "stdout",
     "output_type": "stream",
     "text": [
      "dekutree.txt\n",
      "dir1\n",
      "dir11\n",
      "korok.txt\n",
      "dir12\n",
      "guardian.txt\n",
      "instantdeath.txt\n",
      "hello.txt\n",
      "korok.txt\n",
      "dir2\n",
      "dir21\n",
      "dir211\n",
      "dir2111\n",
      "korok2.txt\n",
      "dir2112\n",
      "dir21121\n",
      "dungeon.txt\n",
      "hello2.txt\n"
     ]
    }
   ],
   "source": [
    "from util import *\n",
    "\n",
    "def crawl_directory(path):\n",
    "    for fname in os.listdir(path):\n",
    "        print(fname)\n",
    "        if os.path.isdir(os.path.join(path, fname)) == True:\n",
    "            crawl_directory(os.path.join(path, fname))\n",
    "    return None\n",
    "\n",
    "\n",
    "if __name__ == \"__main__\":\n",
    "  crawl_directory('example_dir')\n",
    "\n"
   ]
  },
  {
   "cell_type": "code",
   "execution_count": 156,
   "metadata": {},
   "outputs": [
    {
     "name": "stdout",
     "output_type": "stream",
     "text": [
      "['dekutree.txt', 'dir1', 'dir2']\n",
      "C:\\Users\\Tim\\Documents\\Python Course\\datasci-py\\01_python_basics\\example_dir\\dir1\n",
      "['dekutree.txt', 'dir1', 'dir2']\n",
      "C:\\Users\\Tim\\Documents\\Python Course\\datasci-py\\01_python_basics\\example_dir\\dir2\n",
      "['dekutree.txt', 'dir1', 'dir2']\n"
     ]
    }
   ],
   "source": [
    "from util import *\n",
    "filelist = []\n",
    "\n",
    "\n",
    "path = 'C:\\\\Users\\\\Tim\\\\Documents\\\\Python Course\\\\datasci-py\\\\01_python_basics\\\\example_dir' \n",
    "for fname in os.listdir(path):\n",
    "    if os.path.isdir(os.path.join(path, fname)) == 1:\n",
    "        print(os.listdir(path))\n",
    "        print(os.path.join(path, fname))\n",
    "\n",
    "print(os.listdir(path))"
   ]
  },
  {
   "cell_type": "code",
   "execution_count": 37,
   "metadata": {},
   "outputs": [
    {
     "name": "stdout",
     "output_type": "stream",
     "text": [
      "['dekutree.txt', 'dir1', 'dir2']\n"
     ]
    }
   ],
   "source": [
    "print(os.listdir('C:\\\\Users\\\\Tim\\\\Documents\\\\Python Course\\\\datasci-py\\\\01_python_basics\\\\example_dir'))"
   ]
  },
  {
   "cell_type": "code",
   "execution_count": null,
   "metadata": {},
   "outputs": [],
   "source": []
  }
 ],
 "metadata": {
  "kernelspec": {
   "display_name": "Python 3",
   "language": "python",
   "name": "python3"
  },
  "language_info": {
   "codemirror_mode": {
    "name": "ipython",
    "version": 3
   },
   "file_extension": ".py",
   "mimetype": "text/x-python",
   "name": "python",
   "nbconvert_exporter": "python",
   "pygments_lexer": "ipython3",
   "version": "3.6.4"
  }
 },
 "nbformat": 4,
 "nbformat_minor": 2
}
