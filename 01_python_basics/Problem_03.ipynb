{
 "cells": [
  {
   "cell_type": "code",
   "execution_count": 20,
   "metadata": {},
   "outputs": [],
   "source": [
    "import time"
   ]
  },
  {
   "cell_type": "code",
   "execution_count": 25,
   "metadata": {
    "scrolled": true
   },
   "outputs": [
    {
     "name": "stdout",
     "output_type": "stream",
     "text": [
      "21:47\n"
     ]
    }
   ],
   "source": [
    "def military_time():\n",
    "    return time.strftime(\"%H:%M\", time.localtime())\n",
    "\n",
    "print(military_time())"
   ]
  },
  {
   "cell_type": "code",
   "execution_count": 26,
   "metadata": {},
   "outputs": [
    {
     "name": "stdout",
     "output_type": "stream",
     "text": [
      "09:47 PM\n"
     ]
    }
   ],
   "source": [
    "def ampm_time():\n",
    "    return time.strftime(\"%I:%M %p\", time.localtime())\n",
    "\n",
    "print(ampm_time())"
   ]
  },
  {
   "cell_type": "code",
   "execution_count": 44,
   "metadata": {},
   "outputs": [
    {
     "name": "stdout",
     "output_type": "stream",
     "text": [
      "11/12/1999\n"
     ]
    }
   ],
   "source": [
    "def time_format(day, month, year):\n",
    "    timeobject = str(month) + '/' + str(day) + '/' +str(year)\n",
    "    print(timeobject)\n",
    "    timlist = []\n",
    "    hourtime = '0'\n",
    "    #for range[0,23]:\n",
    "        #append.timelist(tim.strptime(timeobject, \"%m/%d/%y \" + hourtime + \"00\"))\n",
    "\n",
    "time_format(12, 11, 1999)"
   ]
  },
  {
   "cell_type": "code",
   "execution_count": 45,
   "metadata": {},
   "outputs": [
    {
     "data": {
      "text/plain": [
       "time.struct_time(tm_year=2000, tm_mon=11, tm_mday=30, tm_hour=0, tm_min=0, tm_sec=0, tm_wday=3, tm_yday=335, tm_isdst=-1)"
      ]
     },
     "execution_count": 45,
     "metadata": {},
     "output_type": "execute_result"
    }
   ],
   "source": [
    "time.strptime(\"30 Nov 00\", \"%d %b %y\")"
   ]
  },
  {
   "cell_type": "code",
   "execution_count": 30,
   "metadata": {},
   "outputs": [
    {
     "name": "stdout",
     "output_type": "stream",
     "text": [
      "this\n",
      "\n",
      "is\n",
      "\n",
      "an\n",
      "\n",
      "example\n",
      "\n"
     ]
    }
   ],
   "source": [
    "def vertical_list(list):\n",
    "    for i in range(len(list)):\n",
    "        print(list[i] + '\\n')\n",
    "\n",
    "vertical_list(['this', 'is', 'an', 'example'])"
   ]
  }
 ],
 "metadata": {
  "kernelspec": {
   "display_name": "Python 3",
   "language": "python",
   "name": "python3"
  },
  "language_info": {
   "codemirror_mode": {
    "name": "ipython",
    "version": 3
   },
   "file_extension": ".py",
   "mimetype": "text/x-python",
   "name": "python",
   "nbconvert_exporter": "python",
   "pygments_lexer": "ipython3",
   "version": "3.6.4"
  }
 },
 "nbformat": 4,
 "nbformat_minor": 2
}
