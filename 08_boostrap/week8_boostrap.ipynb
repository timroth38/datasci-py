{
 "cells": [
  {
   "cell_type": "code",
   "execution_count": 3,
   "metadata": {},
   "outputs": [],
   "source": [
    "%load_ext autoreload\n",
    "%autoreload 2\n",
    "import os\n",
    "import sys\n",
    "import numpy as np\n",
    "import csv\n",
    "import matplotlib as mpl\n",
    "import matplotlib.pyplot as plt"
   ]
  },
  {
   "cell_type": "code",
   "execution_count": 20,
   "metadata": {},
   "outputs": [],
   "source": [
    "LearningOutcomesArr = loadLearningOutcomes()\n",
    "def sample_means_activity(activity, sample_size, num_samples):\n",
    "    sample_arr = np.zeros((num_samples, 1))\n",
    "    activity_col = LearningOutcomesArr[:,1]\n",
    "    arr_activity = LearningOutcomesArr[activity_col == activity,:]\n",
    "    num_elts = arr_activity.shape[0]\n",
    "    for i in range(num_samples):\n",
    "        inds = np.random.randint(num_elts, size=sample_size)\n",
    "        sample = arr_activity[inds,2].astype(float)\n",
    "        sample_arr[i, :] = (np.average(sample))\n",
    "    return np.array(sample_arr)"
   ]
  },
  {
   "cell_type": "code",
   "execution_count": 9,
   "metadata": {},
   "outputs": [],
   "source": [
    "LearningOutcomesHeaders = ['studentId', 'activity', 'outcome']\n",
    "\n",
    "def loadLearningOutcomes():\n",
    "\treader = csv.reader(open('learningOutcomes.csv'))\n",
    "\tlearningOutcomes = []\n",
    "\tfor row in reader:\n",
    "\t\tstudentId = row[0]\n",
    "\t\tactivity = row[1]\n",
    "\t\toutcome = float(row[2]) # make sure outcome is a number!\n",
    "\t\tlearningOutcomes.append([studentId, activity, outcome])\n",
    "\treturn np.asarray(learningOutcomes)"
   ]
  },
  {
   "cell_type": "code",
   "execution_count": 68,
   "metadata": {},
   "outputs": [
    {
     "name": "stdout",
     "output_type": "stream",
     "text": [
      "Difference in Sample Means is -8.397999999999996 For Sample of Size 1000\n"
     ]
    }
   ],
   "source": [
    "activity1avg = np.average(sample_means_activity('activity1', 1000, 1))\n",
    "activity2avg = np.average(sample_means_activity('activity2', 1000, 1))\n",
    "SampleDiff = activity1avg - activity2avg\n",
    "print('Difference in Sample Means is', SampleDiff, 'For Sample of Size 1000')"
   ]
  },
  {
   "cell_type": "code",
   "execution_count": null,
   "metadata": {},
   "outputs": [],
   "source": [
    "def sample_difference(sample_size):\n",
    "    activity1sample = np.average(sample_means_activity('activity1', sample_size, 1))\n",
    "    activity2sample = np.average(sample_means_activity('activity2', sample_size, 1))\n",
    "    activitydifference = activity1sample - activity2sample\n",
    "    return activitydifference\n",
    "\n"
   ]
  },
  {
   "cell_type": "code",
   "execution_count": 69,
   "metadata": {},
   "outputs": [],
   "source": [
    "#copied from lecture\n",
    "\n",
    "from scipy.stats import uniform\n",
    "def uniform_rv(a, b):\n",
    "    return lambda n: uniform.rvs(a, b, size=n)\n",
    "\n",
    "def multinomial_rv(ub):\n",
    "    return lambda n: np.random.randint(1, ub+1, size=n)\n",
    "\n",
    "from scipy.stats import expon\n",
    "def exp_rv(lam):\n",
    "    return lambda n: expon.rvs(lam,size=n).astype(int)\n",
    "\n",
    "from scipy.stats import beta\n",
    "def beta_rv(a, b):\n",
    "    return lambda n: beta.rvs(a, b, size=n)"
   ]
  },
  {
   "cell_type": "code",
   "execution_count": 70,
   "metadata": {},
   "outputs": [],
   "source": [
    "def get_population(rv_maker, population_size):\n",
    "    population = rv_maker(population_size)\n",
    "    return population\n",
    "\n",
    "def get_sample(population, sample_size):\n",
    "    return np.random.choice(population, size=sample_size, replace=True)\n",
    "\n",
    "class PMF(object):\n",
    "    def __init__(self, distribution):\n",
    "        self.distribution = distribution\n",
    "        \n",
    "    def sample(self, size=10):\n",
    "        return np.random.choice(self.distribution, size=size)"
   ]
  },
  {
   "cell_type": "code",
   "execution_count": null,
   "metadata": {},
   "outputs": [],
   "source": [
    "def histogram_count(sample):\n",
    "    return PMF(sample)\n",
    "\n",
    "def compute_stat(sample):\n",
    "    return np.average(sample)\n",
    "\n",
    "def bootstrap(sample, num_samples):\n",
    "    pmf = histogram_count(sample)\n",
    "    results = []\n",
    "    for i in range(num_samples):\n",
    "        resample = pmf.sample(size=len(sample))\n",
    "        stat = compute_stat(resample) # sample mean\n",
    "        results.append(stat)\n",
    "    return results # distribution of sample means"
   ]
  }
 ],
 "metadata": {
  "kernelspec": {
   "display_name": "Python 3",
   "language": "python",
   "name": "python3"
  },
  "language_info": {
   "codemirror_mode": {
    "name": "ipython",
    "version": 3
   },
   "file_extension": ".py",
   "mimetype": "text/x-python",
   "name": "python",
   "nbconvert_exporter": "python",
   "pygments_lexer": "ipython3",
   "version": "3.6.4"
  }
 },
 "nbformat": 4,
 "nbformat_minor": 2
}
