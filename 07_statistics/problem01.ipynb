{
 "cells": [
  {
   "cell_type": "markdown",
   "metadata": {},
   "source": [
    "# Problem 1: Statistics, part 1\n",
    "\n",
    "Below is a collection of exercises that you should now be able to complete after week  7.\n",
    "\n"
   ]
  },
  {
   "cell_type": "code",
   "execution_count": 1,
   "metadata": {},
   "outputs": [],
   "source": [
    "# the following code guarantees you'll properly reload any modules that you custom-defined in your environment.\n",
    "# you don't need to understand it.\n",
    "# just run this once at the beginning.\n",
    "# for auto-reloading extenrnal modules\n",
    "# see http://stackoverflow.com/questions/1907993/autoreload-of-modules-in-ipython\n",
    "%load_ext autoreload\n",
    "%autoreload 2\n",
    "import os\n",
    "import sys\n",
    "import numpy as np\n",
    "import csv\n",
    "import matplotlib as mpl\n",
    "import matplotlib.pyplot as plt"
   ]
  },
  {
   "cell_type": "code",
   "execution_count": 2,
   "metadata": {},
   "outputs": [
    {
     "name": "stdout",
     "output_type": "stream",
     "text": [
      "['Anime ID', 'Season', 'Episodes', 'Studio', 'Source', 'Score', '# Ratings', '# Favorites']\n",
      "studios: 301 ['10Gauge', '33 Collective', '3xCube', '8bit', 'A-1 Pictures', 'A-Real', 'A.C.G.T.', 'ACC Production', 'AIC', 'AIC A.S.T.A.']\n",
      "['4-koma manga', 'Book', 'Card game', 'Digital manga', 'Game', 'Light novel', 'Manga', 'Music', 'Novel', 'Original', 'Other', 'Picture book', 'Radio', 'Unknown', 'Visual novel', 'Web manga']\n",
      "example entry for Houseki no Kuni [35557, 2017, 3, 12, 'Orange', '', 'Manga', 8.48, 51444, 127924]\n",
      "Cowboy Bebop [     1.     1998.        1.       26.      248.       -1.        9.\n",
      "      8.81 363889.   704490.  ]\n"
     ]
    }
   ],
   "source": [
    "from mal_util import *\n",
    "mal_fpath = os.path.join('csvs', 'myAnimeListDataset [07-05-2018].csv')\n",
    "anime_headers, anime_studios, anime_sources, anime_dict = load_mal(mal_fpath)\n",
    "anime_arr, anime_np_lookup = anime_array(anime_dict,  anime_studios, anime_sources) # convert into numpy array\n",
    "\n",
    "print(anime_headers) # things\n",
    "print('studios:', len(anime_studios), anime_studios[:10])\n",
    "print(anime_sources)\n",
    "print('example entry for Houseki no Kuni', anime_dict['Houseki no Kuni']) # ditionary format\n",
    "np.set_printoptions(suppress=True) # remove scientific notation view\n",
    "print(anime_np_lookup[0], anime_arr[0,:]) # np array format"
   ]
  },
  {
   "cell_type": "markdown",
   "metadata": {},
   "source": [
    "## Exercise 1: Graphing sample means\n",
    "\n",
    "Graph the distribution of 5000 sample means (sample size = 10) of the MAL ratings from a season of your choice."
   ]
  },
  {
   "cell_type": "code",
   "execution_count": 38,
   "metadata": {},
   "outputs": [
    {
     "data": {
      "text/plain": [
       "Text(0.5,1,'Sample means of 5000 random anime scores.')"
      ]
     },
     "execution_count": 38,
     "metadata": {},
     "output_type": "execute_result"
    },
    {
     "data": {
      "image/png": "[encoded data removed]",
      "text/plain": [
       "<matplotlib.figure.Figure at 0x2421a1d85f8>"
      ]
     },
     "metadata": {},
     "output_type": "display_data"
    }
   ],
   "source": [
    "def mal_sample_means_season(sample_size, num_samples, season):\n",
    "    season_int = int(season)\n",
    "    if season_int > 3 or season_int < 0:\n",
    "        return print('invalid season')\n",
    "    sample_arr = np.zeros((num_samples, 3))\n",
    "    season_col = anime_arr[:,SEASON].astype(int)\n",
    "    anime_arr_season = anime_arr[season_col == season_int,:]\n",
    "    num_elts = anime_arr_season.shape[0]\n",
    "    for i in range(num_samples):\n",
    "        inds = np.random.randint(num_elts, size=sample_size)\n",
    "        sample = anime_arr_season[inds,SCORE]\n",
    "        sample_arr[i, :] = (np.average(sample))\n",
    "    return np.array(sample_arr)\n",
    "    \n",
    "sample_size = 10\n",
    "num_samples = 5000\n",
    "season = 2\n",
    "sample_arr = mal_sample_means_season(sample_size, num_samples, season)\n",
    "fig = plt.figure()\n",
    "ax = plt.gca()\n",
    "ax.hist(sample_arr[:,0],bins=20,alpha=0.8)\n",
    "ax.set_xlim((5, 8))\n",
    "ax.set_title('Sample means of 5000 random anime scores.')"
   ]
  },
  {
   "cell_type": "markdown",
   "metadata": {},
   "source": [
    "## Exercise 2: Plotting histograms\n",
    "\n",
    "Choose three different studios and sample 10 anime from each. Graph a histogram of the average score per studio and include error bars."
   ]
  },
  {
   "cell_type": "code",
   "execution_count": 53,
   "metadata": {},
   "outputs": [
    {
     "name": "stdout",
     "output_type": "stream",
     "text": [
      "sample of sample size 10:\n",
      "[26. 26. 26. ...  0.  0.  0.]\n",
      "[]\n"
     ]
    },
    {
     "name": "stderr",
     "output_type": "stream",
     "text": [
      "C:\\Users\\Tim\\Anaconda3\\lib\\site-packages\\ipykernel_launcher.py:4: FutureWarning: elementwise comparison failed; returning scalar instead, but in the future will perform elementwise comparison\n",
      "  after removing the cwd from sys.path.\n"
     ]
    },
    {
     "ename": "ValueError",
     "evalue": "low >= high",
     "output_type": "error",
     "traceback": [
      "\u001b[1;31m---------------------------------------------------------------------------\u001b[0m",
      "\u001b[1;31mValueError\u001b[0m                                Traceback (most recent call last)",
      "\u001b[1;32m<ipython-input-53-7cd902c8398d>\u001b[0m in \u001b[0;36m<module>\u001b[1;34m()\u001b[0m\n\u001b[0;32m      9\u001b[0m \u001b[1;33m\u001b[0m\u001b[0m\n\u001b[0;32m     10\u001b[0m \u001b[0mprint\u001b[0m\u001b[1;33m(\u001b[0m\u001b[1;34m'sample of sample size 10:'\u001b[0m\u001b[1;33m)\u001b[0m\u001b[1;33m\u001b[0m\u001b[0m\n\u001b[1;32m---> 11\u001b[1;33m \u001b[0mprint\u001b[0m\u001b[1;33m(\u001b[0m\u001b[0mmake_studio_sample\u001b[0m\u001b[1;33m(\u001b[0m\u001b[1;36m10\u001b[0m\u001b[1;33m,\u001b[0m \u001b[1;34m'Studio Pierrot'\u001b[0m\u001b[1;33m)\u001b[0m\u001b[1;33m)\u001b[0m\u001b[1;33m\u001b[0m\u001b[0m\n\u001b[0m",
      "\u001b[1;32m<ipython-input-53-7cd902c8398d>\u001b[0m in \u001b[0;36mmake_studio_sample\u001b[1;34m(sample_size, studio)\u001b[0m\n\u001b[0;32m      5\u001b[0m     \u001b[0mprint\u001b[0m\u001b[1;33m(\u001b[0m\u001b[0mstudio_arr\u001b[0m\u001b[1;33m)\u001b[0m\u001b[1;33m\u001b[0m\u001b[0m\n\u001b[0;32m      6\u001b[0m     \u001b[0mnum_elts\u001b[0m \u001b[1;33m=\u001b[0m \u001b[0mstudio_arr\u001b[0m\u001b[1;33m.\u001b[0m\u001b[0mshape\u001b[0m\u001b[1;33m[\u001b[0m\u001b[1;36m0\u001b[0m\u001b[1;33m]\u001b[0m\u001b[1;33m\u001b[0m\u001b[0m\n\u001b[1;32m----> 7\u001b[1;33m     \u001b[0minds\u001b[0m \u001b[1;33m=\u001b[0m \u001b[0mnp\u001b[0m\u001b[1;33m.\u001b[0m\u001b[0mrandom\u001b[0m\u001b[1;33m.\u001b[0m\u001b[0mrandint\u001b[0m\u001b[1;33m(\u001b[0m\u001b[0mnum_elts\u001b[0m\u001b[1;33m,\u001b[0m \u001b[0msize\u001b[0m\u001b[1;33m=\u001b[0m\u001b[0msample_size\u001b[0m\u001b[1;33m)\u001b[0m\u001b[1;33m\u001b[0m\u001b[0m\n\u001b[0m\u001b[0;32m      8\u001b[0m     \u001b[1;32mreturn\u001b[0m \u001b[0mstudio_arr\u001b[0m\u001b[1;33m[\u001b[0m\u001b[0minds\u001b[0m\u001b[1;33m,\u001b[0m \u001b[1;33m:\u001b[0m\u001b[1;33m]\u001b[0m\u001b[1;33m\u001b[0m\u001b[0m\n\u001b[0;32m      9\u001b[0m \u001b[1;33m\u001b[0m\u001b[0m\n",
      "\u001b[1;32mmtrand.pyx\u001b[0m in \u001b[0;36mmtrand.RandomState.randint\u001b[1;34m()\u001b[0m\n",
      "\u001b[1;31mValueError\u001b[0m: low >= high"
     ]
    }
   ],
   "source": [
    "def make_studio_sample(sample_size, studio):\n",
    "    \n",
    "    studio_col = anime_arr[:,STUDIO]\n",
    "    studio_arr = anime_arr[studio_col == studio,:]\n",
    "    print(studio_arr)\n",
    "    num_elts = studio_arr.shape[0]\n",
    "    inds = np.random.randint(num_elts, size=sample_size)\n",
    "    return studio_arr[inds, :]\n",
    "\n",
    "print('sample of sample size 10:')\n",
    "print(make_studio_sample(10, 'Studio Pierrot'))"
   ]
  },
  {
   "cell_type": "markdown",
   "metadata": {},
   "source": [
    "## Exercise 3: t-test\n",
    "\n",
    "For two different seasons of anime, report via results of the two-sided t-test if two anime seasons are significantly different in average MAL score."
   ]
  },
  {
   "cell_type": "code",
   "execution_count": null,
   "metadata": {},
   "outputs": [],
   "source": [
    "# your code here"
   ]
  }
 ],
 "metadata": {
  "kernelspec": {
   "display_name": "Python 3",
   "language": "python",
   "name": "python3"
  },
  "language_info": {
   "codemirror_mode": {
    "name": "ipython",
    "version": 3
   },
   "file_extension": ".py",
   "mimetype": "text/x-python",
   "name": "python",
   "nbconvert_exporter": "python",
   "pygments_lexer": "ipython3",
   "version": "3.6.4"
  }
 },
 "nbformat": 4,
 "nbformat_minor": 2
}
