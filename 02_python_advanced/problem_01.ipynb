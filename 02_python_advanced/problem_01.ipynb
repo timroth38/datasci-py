{
 "cells": [
  {
   "cell_type": "markdown",
   "metadata": {},
   "source": [
    "# Problem 1: College Salaries\n",
    "\n",
    "The following problem uses the Kaggle Dataset [Where it Pays to Attend College](https://www.kaggle.com/wsj/college-salaries/data). We are going to load in a CSV, create a dictionary based on the file contents, and then do some analysis.\n",
    "\n",
    "The functions you write for this problem will be useful for future weeks when we do probability distributions in ```numpy``` and start graphing in ```matplotlib```. This is why we separate the problem descriptions (in this notebook) from your implementation details (in \n",
    "\n",
    "Unzip the Kaggle dataset and move the folder into ```02_python_advanced/csvs/<your folder name>```. You can rename the folder if you like. Take a look at the CSV file by opening it up in Excel to get an idea of what the file looks like. Alternatively, you can open it up in a text editor; it's just easier to visualize in a spreadsheet program.\n",
    "\n",
    "Now save the filepath in the block after you run the auto-reload block."
   ]
  },
  {
   "cell_type": "code",
   "execution_count": 1,
   "metadata": {},
   "outputs": [],
   "source": [
    "# the following code guarantees you'll properly reload any modules that you custom-defined in your environment.\n",
    "# you don't need to understand it.\n",
    "# just run this once at the beginning.\n",
    "# for auto-reloading extenrnal modules\n",
    "# see http://stackoverflow.com/questions/1907993/autoreload-of-modules-in-ipython\n",
    "%load_ext autoreload\n",
    "%autoreload 2"
   ]
  },
  {
   "cell_type": "code",
   "execution_count": 2,
   "metadata": {},
   "outputs": [],
   "source": [
    "from util import *\n",
    "college_dir = os.path.join('C:\\\\Users\\\\Tim\\\\Documents\\\\Python Course\\\\datasci-py\\\\02_python_advanced\\\\csvs', 'college-salaries') # edit this line\n",
    "degrees_fpath = os.path.join(college_dir, 'degrees-that-pay-back.csv')\n",
    "salaries_type_fpath = os.path.join(college_dir, 'salaries-by-college-type.csv')\n",
    "salaries_region_fpath = os.path.join(college_dir, 'salaries-by-region.csv')"
   ]
  },
  {
   "cell_type": "markdown",
   "metadata": {},
   "source": [
    "**Reload block**: Run the below block every time you modify a function in ```problem_01_fn.py``` and want to test it in the notebook."
   ]
  },
  {
   "cell_type": "code",
   "execution_count": 4,
   "metadata": {
    "scrolled": false
   },
   "outputs": [],
   "source": [
    "from problem_01_fn import *"
   ]
  },
  {
   "cell_type": "markdown",
   "metadata": {},
   "source": [
    "## Load the data\n",
    "\n",
    "Before we analyze anything, we need to read in the CSVs and load them into dictionaries."
   ]
  },
  {
   "cell_type": "markdown",
   "metadata": {},
   "source": [
    "### 1. Degrees dictionary\n",
    "\n",
    "Implement the function ```load_degrees(degree_fpath)``` which should read in the CSV file argument ```degree_fpath``` and return two things:\n",
    "\n",
    "* a list of strings correponding to the header strings for your values (in other words, everything from \"Starting Median Salary\" onward)\n",
    "* a dictionary which has the following format:\n",
    "    ```\n",
    "    key: major, a string\n",
    "    value: a list of floats corresponding to the numbers in each row **minus** the percent change from Starting to Mid-Career Salary\n",
    "    ```\n",
    "\n",
    "I've defined a few constants for you in the ```problem_01_fn.py``` file such that they correspond to what the nth element of the values in your dictionary should be. As a result, once you're done defining your ```load_degrees(degree_fpath)```, you should be able to run the following test blocks without issue.\n",
    "\n",
    "Recall that every time you edit and save a function inside ```problem_01_fn.py```, you must run the reload block."
   ]
  },
  {
   "cell_type": "code",
   "execution_count": 5,
   "metadata": {},
   "outputs": [],
   "source": [
    "# create the dictionary\n",
    "salary_headers, degree_dict = load_degrees(degrees_fpath)"
   ]
  },
  {
   "cell_type": "code",
   "execution_count": 6,
   "metadata": {},
   "outputs": [
    {
     "name": "stdout",
     "output_type": "stream",
     "text": [
      "['Starting Median Salary', 'Mid-Career Median Salary', 'Mid-Career 10th Percentile Salary', 'Mid-Career 25th Percentile Salary', 'Mid-Career 75th Percentile Salary', 'Mid-Career 90th Percentile Salary']\n",
      "6\n",
      "[34000.0, 53100.0, 31000.0, 40000.0, 76800.0, 96400.0]\n",
      "True\n"
     ]
    }
   ],
   "source": [
    "print(salary_headers) # ['Starting Median Salary', 'Mid-Career Median Salary', ...]\n",
    "print(len(salary_headers)) # 6\n",
    "print(degree_dict['Spanish']) # [34000.0, 53100.0, 56.2, ...]\n",
    "print('Undergraduate Major' not in degree_dict)"
   ]
  },
  {
   "cell_type": "markdown",
   "metadata": {},
   "source": [
    "### 2. College dictionaries\n",
    "\n",
    "Implement the function ```load_colleges(salaries_type_fpath, salaries_region_fpath)``` which should read in the two CSV file arguments and return three dictionaries:\n",
    "* a dictionary which has a similar format to our ```degree_dict```:\n",
    "    ```\n",
    "    key: college, a string\n",
    "    value: a list of floats corresponding to the numbers in each row\n",
    "    ```\n",
    "* a dictionary mapping a school type to a list of colleges:\n",
    "    ```\n",
    "    key: school type, a string, like 'Engineering' or 'Party'\n",
    "    value: a list of schools under that school type\n",
    "    ```\n",
    "* a dictionary mapping a region to a list of colleges:\n",
    "    ```\n",
    "    key: region, a string, like 'Southern' or 'Northeastern'\n",
    "    value: a list of schools in that region\n",
    "    ```\n",
    "    \n",
    "Note that some schools appear in both CSVs, but their salary values are the same in both sheets. However, you should make sure you still parse those lines as they will contain information about the school region or type.\n",
    "\n",
    "Once you implement your function, you should be able to run the following test blocks without issue."
   ]
  },
  {
   "cell_type": "code",
   "execution_count": 7,
   "metadata": {},
   "outputs": [],
   "source": [
    "college_dict, type_to_colleges, region_to_colleges = load_colleges(salaries_type_fpath, salaries_region_fpath)"
   ]
  },
  {
   "cell_type": "code",
   "execution_count": 8,
   "metadata": {},
   "outputs": [
    {
     "name": "stdout",
     "output_type": "stream",
     "text": [
      "[62400.0, 114000.0, 66800.0, 94300.0, 143000.0, 190000.0]\n",
      "[62200.0, 114000.0, -1.0, 80200.0, 142000.0, -1.0]\n",
      "[72200.0, 126000.0, 76800.0, 99200.0, 168000.0, 220000.0]\n",
      "True\n"
     ]
    }
   ],
   "source": [
    "print(college_dict['Polytechnic University of New York, Brooklyn'])\n",
    "print(college_dict['Cooper Union']) # should have -1 in place of N/A\n",
    "print(college_dict['Massachusetts Institute of Technology (MIT)'])\n",
    "print('School Name' not in college_dict)"
   ]
  },
  {
   "cell_type": "code",
   "execution_count": 9,
   "metadata": {},
   "outputs": [
    {
     "name": "stdout",
     "output_type": "stream",
     "text": [
      "20\n",
      "19\n",
      "True\n"
     ]
    }
   ],
   "source": [
    "print(len(type_to_colleges['Party'])) # should be 20\n",
    "print(len(type_to_colleges['Engineering'])) # should be 19\n",
    "print('School Type' not in type_to_colleges)"
   ]
  },
  {
   "cell_type": "code",
   "execution_count": 10,
   "metadata": {},
   "outputs": [
    {
     "name": "stdout",
     "output_type": "stream",
     "text": [
      "28\n",
      "['Cal Poly San Luis Obispo', 'California Institute of Technology (CIT)', 'California State University (CSU), Chico', 'California State University (CSU), Stanislaus', 'California State University, Dominguez Hills (CSUDH)', 'California State University, East Bay (CSUEB)', 'California State University, Fullerton (CSUF)', 'California State University, Long Beach (CSULB)', 'California State University, Northridge (CSUN)', 'California State University, Sacramento (CSUS)', 'Harvey Mudd College', 'Humboldt State University', 'Occidental College', 'Pomona College', 'San Diego State University (SDSU)', 'San Francisco State University (SFSU)', 'San Jose State University (SJSU)', 'Stanford University', 'Thomas Aquinas College', 'University of California at Los Angeles (UCLA)', 'University of California, Berkeley', 'University of California, Davis', 'University of California, Irvine (UCI)', 'University of California, Riverside (UCR)', 'University of California, San Diego (UCSD)', 'University of California, Santa Barbara (UCSB)', 'University of California, Santa Cruz (UCSC)', 'University of Southern California (USC)']\n"
     ]
    }
   ],
   "source": [
    "print(len(region_to_colleges['California'])) # should be 28\n",
    "print(sorted((region_to_colleges['California']))) # ['Cal Poly San Luis Obispo', ..., 'University of Southern California (USC)']"
   ]
  },
  {
   "cell_type": "code",
   "execution_count": 11,
   "metadata": {},
   "outputs": [
    {
     "name": "stdout",
     "output_type": "stream",
     "text": [
      "had errors? False\n"
     ]
    }
   ],
   "source": [
    "had_errors = []\n",
    "for college_type, colleges in type_to_colleges.items():\n",
    "    had_errors += [college for college in colleges if college not in college_dict]\n",
    "for region, colleges in region_to_colleges.items():\n",
    "    had_errors += [college for college in colleges if college not in college_dict]\n",
    "print('had errors? {}'.format(len(had_errors) != 0))\n",
    "if len(had_errors):\n",
    "    print('errors:', had_errors)\n",
    "    "
   ]
  },
  {
   "cell_type": "markdown",
   "metadata": {},
   "source": [
    "### 3. Statistics\n",
    "Answer the following questions about the data. You can keep your work in this notebook; you don't have to implement additional functions in ```problem_01_fn.py``` if you don't want to.\n",
    "\n",
    "**A. Basic questions**"
   ]
  },
  {
   "cell_type": "markdown",
   "metadata": {},
   "source": [
    "What is the average starting median salary across all degrees? What is the min/max salary?"
   ]
  },
  {
   "cell_type": "code",
   "execution_count": 26,
   "metadata": {},
   "outputs": [
    {
     "name": "stdout",
     "output_type": "stream",
     "text": [
      "34000.0\n",
      "74300.0\n",
      "44310.0\n",
      "[46000.0, 57700.0, 42600.0, 36800.0, 41600.0, 35800.0, 38800.0, 43000.0, 63200.0, 42600.0, 53900.0, 38100.0, 61400.0, 55900.0, 53700.0, 35000.0, 35900.0, 50100.0, 34900.0, 60900.0, 38000.0, 37900.0, 47900.0, 39100.0, 41200.0, 43500.0, 35700.0, 38800.0, 39200.0, 37800.0, 57700.0, 49100.0, 36100.0, 40900.0, 35600.0, 49200.0, 40800.0, 45400.0, 57900.0, 35900.0, 54200.0, 39900.0, 39900.0, 74300.0, 50300.0, 40800.0, 35900.0, 34100.0, 36500.0, 34000.0]\n"
     ]
    }
   ],
   "source": [
    "meandegrees = []\n",
    "for k, v in degree_dict.items():\n",
    "    meandegrees.append(v[0])\n",
    "print(np.amin(meandegrees))\n",
    "print(np.amax(meandegrees))\n",
    "print(np.mean(meandegrees))\n",
    "print(meandegrees)"
   ]
  },
  {
   "cell_type": "markdown",
   "metadata": {},
   "source": [
    "Which degree has the lowest starting median salary? The highest starting median salary? Which degree has a startingm median salary closest to the average median starting salary across all degrees?"
   ]
  },
  {
   "cell_type": "code",
   "execution_count": 35,
   "metadata": {},
   "outputs": [
    {
     "name": "stdout",
     "output_type": "stream",
     "text": [
      "Spanish\n",
      "Physician Assistant\n",
      "Geology\n"
     ]
    }
   ],
   "source": [
    "deg_keys = [k for k, v in degree_dict.items()]\n",
    "lowstart = np.argmin(meandegrees)\n",
    "highstart = np.argmax(meandegrees)\n",
    "meandist = []\n",
    "meanvalue = np.mean(meandegrees)\n",
    "for salary in meandegrees:\n",
    "    meandist.append(abs(salary - meanvalue))\n",
    "averagestart = np.argmin(meandist)\n",
    "\n",
    "print(deg_keys[lowstart])\n",
    "print(deg_keys[highstart])\n",
    "print(deg_keys[averagestart])"
   ]
  },
  {
   "cell_type": "markdown",
   "metadata": {},
   "source": [
    "What school has the lowest mid-career median salary? The highest mid-career median salary? What are the average/min/max median mid-career median salaries?"
   ]
  },
  {
   "cell_type": "code",
   "execution_count": 37,
   "metadata": {},
   "outputs": [
    {
     "name": "stdout",
     "output_type": "stream",
     "text": [
      "Education\n",
      "Chemical Engineering\n",
      "Information Technology (IT)\n"
     ]
    }
   ],
   "source": [
    "midmeandegrees = []\n",
    "for k, v in degree_dict.items():\n",
    "    midmeandegrees.append(v[1])\n",
    "\n",
    "midlow = np.argmin(midmeandegrees)\n",
    "midhigh = np.argmax(midmeandegrees)\n",
    "midmeandist = []\n",
    "midmeanvalue = np.mean(midmeandegrees)\n",
    "for salary in midmeandegrees:\n",
    "    midmeandist.append(abs(salary - midmeanvalue))\n",
    "midaverage = np.argmin(midmeandist)\n",
    "\n",
    "print(deg_keys[midlow])\n",
    "print(deg_keys[midhigh])\n",
    "print(deg_keys[midaverage])"
   ]
  },
  {
   "cell_type": "markdown",
   "metadata": {},
   "source": [
    "**B. More advanced questions**\n",
    "\n",
    "Compute the Percent change from Starting to Mid-Career Salary for different schools. Which school has the largest percent change in salary?"
   ]
  },
  {
   "cell_type": "code",
   "execution_count": 39,
   "metadata": {
    "scrolled": true
   },
   "outputs": [
    {
     "name": "stdout",
     "output_type": "stream",
     "text": [
      "Dartmouth College\n"
     ]
    }
   ],
   "source": [
    "percentlowmid = []\n",
    "college_keys = []\n",
    "for k, v in college_dict.items():\n",
    "    college_keys.append(k)\n",
    "    percentlowmid.append(v[1]/v[0]*100)\n",
    "\n",
    "bigpercent = np.argmax(percentlowmid)\n",
    "print(college_keys[bigpercent])"
   ]
  },
  {
   "cell_type": "markdown",
   "metadata": {},
   "source": [
    "Which school has the largest spread (in $, not percentage) in mid-career salaries? Take the difference of 90th percentile salary and 10th percentile salary."
   ]
  },
  {
   "cell_type": "code",
   "execution_count": 40,
   "metadata": {},
   "outputs": [
    {
     "name": "stdout",
     "output_type": "stream",
     "text": [
      "Yale University\n"
     ]
    }
   ],
   "source": [
    "#N/A varibales occur in 10th and 90th percentile, so no need to account for this\n",
    "\n",
    "salaryspread = []\n",
    "for k, v in college_dict.items():\n",
    "    salaryspread.append(v[-1]-v[2])\n",
    "\n",
    "bigspread = np.argmax(salaryspread)\n",
    "print(college_keys[bigspread])"
   ]
  },
  {
   "cell_type": "markdown",
   "metadata": {},
   "source": [
    "Which type of college has the highest mid-career median starting salary? The lowest?"
   ]
  },
  {
   "cell_type": "code",
   "execution_count": 48,
   "metadata": {},
   "outputs": [
    {
     "name": "stdout",
     "output_type": "stream",
     "text": [
      "Dartmouth College\n",
      "Black Hills State University\n",
      "The highest mid-career school is a(n) Ivy League school\n",
      "The lowest mid-career school is a(n) State school\n"
     ]
    }
   ],
   "source": [
    "midsalary = [v[1] for k, v in college_dict.items()]\n",
    "midsalarymaxdex = np.argmax(midsalary)\n",
    "midsalarymindex = np.argmin(midsalary)\n",
    "midsalarymaxschool = college_keys[midsalarymaxdex]\n",
    "midsalaryminschool = college_keys[midsalarymindex]\n",
    "print(midsalarymaxschool)\n",
    "print(midsalaryminschool)\n",
    "for k, v in type_to_colleges.items():\n",
    "    if midsalarymaxschool in v:\n",
    "        print('The highest mid-career school is a(n) ' + k + ' school')\n",
    "    elif midsalaryminschool in v:\n",
    "        print('The lowest mid-career school is a(n) ' + k + ' school')"
   ]
  },
  {
   "cell_type": "markdown",
   "metadata": {},
   "source": [
    "Which region of the US has the highest mid-career median starting salary? The lowest?"
   ]
  },
  {
   "cell_type": "code",
   "execution_count": 49,
   "metadata": {
    "scrolled": true
   },
   "outputs": [
    {
     "name": "stdout",
     "output_type": "stream",
     "text": [
      "The lowest mid-career school is a(n) Midwestern school\n",
      "The highest mid-career school is a(n) Northeastern school\n"
     ]
    }
   ],
   "source": [
    "for k, v in region_to_colleges.items():\n",
    "    if midsalarymaxschool in v:\n",
    "        print('The highest mid-career school is a(n) ' + k + ' school')\n",
    "    elif midsalaryminschool in v:\n",
    "        print('The lowest mid-career school is a(n) ' + k + ' school')"
   ]
  },
  {
   "cell_type": "markdown",
   "metadata": {},
   "source": [
    "### 4. Write a new csv\n",
    "\n",
    "Implement ```write_colleges(college_fpath, salary_headers, college_dict, type_to_colleges, region_to_colleges)```, which writes an aggregate CSV to ```college_fpath``` that contains the region AND type of the college.\n",
    "\n",
    "**This CSV should be sorted by the name of the college.**\n",
    "\n",
    "Some example rows of this csv might look like:\n",
    "\n",
    "```\n",
    "Tennessee Technological University,Southern,Engineering,46200.0,80000.0,42100.0,62600.0,99500.0,121000.0\n",
    "Stanford University,California,N/A,70400.0,129000.0,68400.0,93100.0,184000.0,257000.0\n",
    "Davidson College,Southern,Liberal Arts,46100.0,104000.0,-1,70500.0,146000.0,-1\n",
    "\"University of Maryland, College Park\",Southern,Party,52000.0,95000.0,50400.0,68300.0,126000.0,166000.0\n",
    "```\n",
    "\n",
    "**Note** You must have the correct header as the first row of your CSV."
   ]
  },
  {
   "cell_type": "code",
   "execution_count": 12,
   "metadata": {
    "scrolled": true
   },
   "outputs": [
    {
     "name": "stdout",
     "output_type": "stream",
     "text": [
      "C:\\Users\\Tim\\Documents\\Python Course\\datasci-py\\02_python_advanced\\csvs\\college-salaries\\salaries-by-college.csv\n"
     ]
    }
   ],
   "source": [
    "college_fpath = os.path.join(college_dir, 'salaries-by-college.csv')\n",
    "print(college_fpath)"
   ]
  },
  {
   "cell_type": "code",
   "execution_count": 22,
   "metadata": {
    "scrolled": false
   },
   "outputs": [
    {
     "name": "stdout",
     "output_type": "stream",
     "text": [
      "[['School Name', 'Region', 'School Type', 'Starting Median Salary', 'Mid-Career Median Salary', 'Mid-Career 10th Percentile Salary', 'Mid-Career 25th Percentile Salary', 'Mid-Career 75th Percentile Salary', 'Mid-Career 90th Percentile Salary'], ['Adelphi University', 'Northeastern', 'N/A', 40600.0, 79200.0, 44200.0, 54800.0, 114000.0, 160000.0], ['American University, Washington D.C.', 'Southern', 'N/A', 45300.0, 90800.0, 45200.0, 62400.0, 134000.0, 169000.0], ['Amherst College', 'Northeastern', 'Liberal Arts', 54500.0, 107000.0, -1.0, 84900.0, 162000.0, -1.0], ['Appalachian State University', 'Southern', 'State', 40400.0, 69100.0, 37200.0, 50400.0, 90800.0, 115000.0], ['Arizona State University (ASU)', 'Western', 'State', 47400.0, 84100.0, 44600.0, 60700.0, 114000.0, 163000.0], ['Arkansas State University (ASU)', 'Southern', 'State', 38700.0, 63300.0, 33600.0, 45300.0, 83900.0, 118000.0], ['Auburn University', 'Southern', 'State', 45400.0, 84700.0, 45400.0, 62700.0, 109000.0, 145000.0], ['Austin Peay State University', 'Southern', 'State', 37700.0, 59200.0, 32200.0, 40500.0, 73900.0, 96200.0], ['Ball State University (BSU)', 'Midwestern', 'State', 39100.0, 64500.0, 35500.0, 48200.0, 89300.0, 128000.0], ['Bates College', 'Northeastern', 'Liberal Arts', 47300.0, 96500.0, -1.0, 60700.0, 162000.0, -1.0], ['Baylor University', 'Southern', 'N/A', 48300.0, 88600.0, 46300.0, 60700.0, 130000.0, 200000.0], ['Binghamton University', 'Northeastern', 'State', 53600.0, 95900.0, 50900.0, 71200.0, 146000.0, 201000.0], ['Black Hills State University', 'Midwestern', 'State', 35300.0, 43900.0, 27000.0, 32200.0, 60900.0, 87600.0], ['Boise State University (BSU)', 'Western', 'State', 40800.0, 69500.0, 37400.0, 48700.0, 87500.0, 110000.0], ['Boston College', 'Northeastern', 'N/A', 52700.0, 103000.0, 48900.0, 70000.0, 143000.0, 195000.0], ['Boston University', 'Northeastern', 'N/A', 49000.0, 93900.0, 48000.0, 64900.0, 130000.0, 193000.0], ['Bowdoin College', 'Northeastern', 'Liberal Arts', 48100.0, 107000.0, -1.0, 74600.0, 146000.0, -1.0], ['Bowling Green State University', 'Midwestern', 'State', 39800.0, 72100.0, 38200.0, 51800.0, 101000.0, 146000.0], ['Bradley University', 'Midwestern', 'N/A', 47000.0, 87300.0, 45900.0, 64900.0, 113000.0, 151000.0], ['Brigham Young University (BYU)', 'Western', 'N/A', 49400.0, 88600.0, 50600.0, 68500.0, 119000.0, 164000.0], ['Brown University', 'Northeastern', 'Ivy League', 56200.0, 109000.0, 55400.0, 74400.0, 159000.0, 228000.0], ['Bucknell University', 'Northeastern', 'Liberal Arts', 54100.0, 110000.0, 62800.0, 80600.0, 156000.0, 251000.0], ['Cal Poly San Luis Obispo', 'California', 'State', 57200.0, 101000.0, 55000.0, 74700.0, 133000.0, 178000.0], ['California Institute of Technology (CIT)', 'California', 'Engineering', 75500.0, 123000.0, -1.0, 104000.0, 161000.0, -1.0], ['California State University (CSU), Chico', 'California', 'State', 47400.0, 88100.0, 46800.0, 62800.0, 122000.0, 154000.0], ['California State University (CSU), Stanislaus', 'California', 'State', 38000.0, 71400.0, 33700.0, 50500.0, 94100.0, 121000.0], ['California State University, Dominguez Hills (CSUDH)', 'California', 'State', 42700.0, 72100.0, 30800.0, 47000.0, 92200.0, 132000.0], ['California State University, East Bay (CSUEB)', 'California', 'State', 49200.0, 84300.0, 46000.0, 62400.0, 115000.0, 155000.0], ['California State University, Fullerton (CSUF)', 'California', 'State', 45700.0, 87000.0, 45400.0, 62500.0, 119000.0, 158000.0], ['California State University, Long Beach (CSULB)', 'California', 'State', 45100.0, 84700.0, 47400.0, 62500.0, 113000.0, 154000.0], ['California State University, Northridge (CSUN)', 'California', 'State', 45500.0, 80400.0, 44500.0, 57800.0, 108000.0, 153000.0], ['California State University, Sacramento (CSUS)', 'California', 'State', 47800.0, 82400.0, 42900.0, 59600.0, 111000.0, 154000.0], ['Carleton College', 'Midwestern', 'Liberal Arts', 47500.0, 103000.0, -1.0, 69400.0, 141000.0, -1.0], ['Carnegie Mellon University (CMU)', 'Northeastern', 'Engineering', 61800.0, 111000.0, 63300.0, 80100.0, 150000.0, 209000.0], ['Case Western Reserve University', 'Midwestern', 'N/A', 56200.0, 96500.0, 54900.0, 76500.0, 123000.0, 168000.0], ['Clemson University', 'Southern', 'State', 48400.0, 86000.0, 50500.0, 61800.0, 111000.0, 150000.0], ['Cleveland State University', 'Midwestern', 'State', 43500.0, 73100.0, 39500.0, 51600.0, 97000.0, 137000.0], ['Colby College', 'Northeastern', 'Liberal Arts', 46400.0, 85800.0, -1.0, 63500.0, 129000.0, -1.0], ['Colgate University', 'Northeastern', 'Liberal Arts', 52800.0, 108000.0, 60000.0, 76700.0, 167000.0, 265000.0], ['College of the Holy Cross', 'Northeastern', 'Liberal Arts', 50200.0, 106000.0, -1.0, 65600.0, 143000.0, -1.0], ['Colorado College (CC)', 'Western', 'Liberal Arts', 38500.0, 81400.0, -1.0, 43000.0, 148000.0, -1.0], ['Colorado School of Mines', 'Western', 'Engineering', 58100.0, 106000.0, 62200.0, 87900.0, 142000.0, 201000.0], ['Colorado State University (CSU)', 'Western', 'State', 44800.0, 79000.0, 43800.0, 57100.0, 112000.0, 150000.0], ['Columbia University', 'Northeastern', 'Ivy League', 59400.0, 107000.0, 50300.0, 71900.0, 161000.0, 241000.0], ['Cooper Union', 'Northeastern', 'Engineering', 62200.0, 114000.0, -1.0, 80200.0, 142000.0, -1.0], ['Cornell University', 'Northeastern', 'Ivy League', 60300.0, 110000.0, 56800.0, 79800.0, 160000.0, 210000.0], ['Dallas Baptist University', 'Southern', 'N/A', 39400.0, 60200.0, 38500.0, 50300.0, 81800.0, 98100.0], ['Dartmouth College', 'Northeastern', 'Ivy League', 58000.0, 134000.0, 63100.0, 90200.0, 234000.0, 321000.0], ['Davenport University', 'Midwestern', 'N/A', 39700.0, 46600.0, 31600.0, 38100.0, 65600.0, 85700.0], ['Davidson College', 'Southern', 'Liberal Arts', 46100.0, 104000.0, -1.0, 70500.0, 146000.0, -1.0], ['DePaul University', 'Midwestern', 'N/A', 46400.0, 84800.0, 50300.0, 63900.0, 115000.0, 160000.0], ['DePauw University', 'Midwestern', 'Liberal Arts', 41400.0, 88300.0, 49500.0, 57400.0, 133000.0, 185000.0], ['Denison University', 'Midwestern', 'Liberal Arts', 42000.0, 83500.0, -1.0, 62100.0, 122000.0, -1.0], ['Dowling College', 'Northeastern', 'N/A', 41100.0, 82800.0, 46500.0, 60600.0, 117000.0, 142000.0], ['Drexel University', 'Northeastern', 'N/A', 53400.0, 93500.0, 54900.0, 72500.0, 122000.0, 161000.0], ['Duke University', 'Southern', 'N/A', 58900.0, 106000.0, 56000.0, 77400.0, 149000.0, 218000.0], ['Duquesne University', 'Northeastern', 'N/A', 40700.0, 84400.0, 42600.0, 59500.0, 107000.0, 131000.0], ['East Carolina University (ECU)', 'Southern', 'State', 40200.0, 67500.0, 38400.0, 52000.0, 98700.0, 151000.0], ['Eastern Michigan University', 'Midwestern', 'State', 40300.0, 72100.0, 37900.0, 52800.0, 95400.0, 135000.0], ['Eastern Washington University', 'Western', 'State', 38600.0, 70900.0, 36000.0, 50500.0, 93100.0, 117000.0], ['Embry-Riddle Aeronautical University (ERAU)', 'N/A', 'Engineering', 52700.0, 80700.0, 49800.0, 64000.0, 106000.0, 142000.0], ['Emory University', 'Southern', 'N/A', 52000.0, 91600.0, 52500.0, 63300.0, 128000.0, 192000.0], ['Evergreen State College', 'Western', 'Liberal Arts', 39500.0, 63900.0, 38800.0, 47200.0, 91600.0, 120000.0], ['Fairleigh Dickinson University', 'Northeastern', 'N/A', 45700.0, 78700.0, 40200.0, 56300.0, 112000.0, 171000.0], ['Fashion Institute of Technology', 'Northeastern', 'N/A', 42800.0, 81000.0, 38800.0, 60500.0, 106000.0, 138000.0], ['Fitchburg State College', 'Northeastern', 'State', 42400.0, 72600.0, 43300.0, 56100.0, 99600.0, 151000.0], ['Florida Atlantic University (FAU)', 'Southern', 'State', 42600.0, 71100.0, 40700.0, 53000.0, 99500.0, 137000.0], ['Florida International University (FIU)', 'Southern', 'State', 43200.0, 75500.0, 40500.0, 55800.0, 98200.0, 136000.0], ['Florida Metropolitan University (FMU)', 'Southern', 'N/A', 36600.0, 51000.0, 32800.0, 36800.0, 70400.0, 102000.0], ['Florida State University (FSU)', 'Southern', 'State', 42100.0, 73000.0, 39600.0, 52800.0, 107000.0, 156000.0], ['Fordham University', 'Northeastern', 'N/A', 47800.0, 99900.0, 48600.0, 65900.0, 142000.0, 198000.0], ['Fort Lewis College', 'Western', 'Liberal Arts', 42000.0, 69800.0, -1.0, 55000.0, 94000.0, -1.0], ['Franklin and Marshall College', 'Northeastern', 'Liberal Arts', 49100.0, 92800.0, -1.0, 55800.0, 185000.0, -1.0], ['George Mason University', 'Southern', 'State', 47800.0, 86900.0, 51300.0, 67200.0, 114000.0, 150000.0], ['George Washington University (GWU)', 'Southern', 'N/A', 47000.0, 97900.0, 48400.0, 69600.0, 132000.0, 194000.0], ['Georgetown University', 'Southern', 'N/A', 55000.0, 110000.0, 60300.0, 85800.0, 174000.0, 248000.0], ['Georgia Institute of Technology', 'Southern', 'Engineering', 58300.0, 106000.0, 67200.0, 85200.0, 137000.0, 183000.0], ['Georgia State University', 'Southern', 'State', 41800.0, 74000.0, 43000.0, 55300.0, 99900.0, 145000.0], ['Gettysburg College', 'Northeastern', 'Liberal Arts', 44700.0, 85800.0, -1.0, 66300.0, 132000.0, -1.0], ['Gonzaga University', 'Western', 'N/A', 44900.0, 76000.0, 47000.0, 57400.0, 103000.0, 138000.0], ['Grinnell College', 'Midwestern', 'Liberal Arts', 42600.0, 76600.0, -1.0, 65100.0, 116000.0, -1.0], ['Gustavus Adolphus College', 'Midwestern', 'Liberal Arts', 44500.0, 80600.0, -1.0, 49300.0, 101000.0, -1.0], ['Hamilton College', 'Northeastern', 'Liberal Arts', 49200.0, 83700.0, -1.0, 51900.0, 123000.0, -1.0], ['Harvard University', 'Northeastern', 'Ivy League', 63400.0, 124000.0, 54800.0, 86200.0, 179000.0, 288000.0], ['Harvey Mudd College', 'California', 'Engineering', 71800.0, 122000.0, -1.0, 96000.0, 180000.0, -1.0], ['Hofstra University', 'Northeastern', 'N/A', 46800.0, 92700.0, 48900.0, 67000.0, 135000.0, 189000.0], ['Howard University', 'Southern', 'N/A', 46900.0, 81800.0, 43300.0, 60000.0, 109000.0, 138000.0], ['Humboldt State University', 'California', 'State', 42600.0, 71300.0, 36000.0, 56300.0, 94400.0, 117000.0], ['Idaho State University', 'Western', 'State', 44900.0, 73400.0, 35400.0, 49600.0, 101000.0, 143000.0], ['Illinois Institute of Technology (IIT)', 'Midwestern', 'Engineering', 56000.0, 97800.0, 56100.0, 77400.0, 121000.0, 165000.0], ['Illinois State University', 'Midwestern', 'State', 42000.0, 73400.0, 39100.0, 55200.0, 105000.0, 142000.0], ['Indiana University (IU), Bloomington', 'Midwestern', 'State', 46300.0, 84000.0, 43600.0, 60400.0, 119000.0, 178000.0], ['Indiana Wesleyan University (IWU)', 'Midwestern', 'N/A', 39800.0, 58500.0, 39600.0, 47800.0, 78600.0, 93400.0], ['Iowa State University', 'Midwestern', 'State', 45400.0, 84600.0, 44400.0, 60000.0, 109000.0, 147000.0], ['Ithaca College', 'Northeastern', 'N/A', 42700.0, 87400.0, 50200.0, 62400.0, 128000.0, 174000.0], ['Jacksonville University', 'Southern', 'N/A', 46700.0, 66200.0, 36700.0, 47200.0, 88500.0, 121000.0], ['Juniata College', 'Northeastern', 'Liberal Arts', 41800.0, 78900.0, -1.0, 67200.0, 110000.0, -1.0], ['Kansas State University (KSU)', 'Midwestern', 'State', 43300.0, 79000.0, 37200.0, 54100.0, 106000.0, 138000.0], ['Kent State University', 'Midwestern', 'State', 38700.0, 62600.0, 36100.0, 45800.0, 87000.0, 124000.0], ['La Salle University (Philadelphia)', 'Northeastern', 'N/A', 43400.0, 84700.0, 45300.0, 57500.0, 106000.0, 151000.0], ['Lafayette College', 'Northeastern', 'Liberal Arts', 53900.0, 107000.0, 70600.0, 79300.0, 144000.0, 204000.0], ['Lamar University', 'Southern', 'State', 46500.0, 79400.0, 38700.0, 51600.0, 114000.0, 158000.0], ['LeTourneau University', 'Southern', 'N/A', 49500.0, 73800.0, 41200.0, 52700.0, 95200.0, 126000.0], ['Lee University (Cleveland, TN)', 'Southern', 'N/A', 34500.0, 53900.0, -1.0, 44500.0, 76800.0, -1.0], ['Lehigh University', 'Northeastern', 'N/A', 59200.0, 105000.0, 69500.0, 85000.0, 160000.0, 229000.0], ['Lewis & Clark College', 'Western', 'Liberal Arts', 38900.0, 72600.0, 38200.0, 53400.0, 104000.0, 140000.0], ['Long Island University', 'Northeastern', 'N/A', 47300.0, 93200.0, 46300.0, 62100.0, 122000.0, 169000.0], ['Louisiana State University (LSU)', 'Southern', 'State', 46900.0, 87800.0, 43700.0, 61300.0, 120000.0, 165000.0], ['Marquette University', 'Midwestern', 'N/A', 48500.0, 88400.0, 49500.0, 67400.0, 121000.0, 184000.0], ['Massachusetts Institute of Technology (MIT)', 'Northeastern', 'Engineering', 72200.0, 126000.0, 76800.0, 99200.0, 168000.0, 220000.0], ['Mercy College', 'Northeastern', 'N/A', 43700.0, 62600.0, 35600.0, 47300.0, 99000.0, 134000.0], ['Michigan State University (MSU)', 'Midwestern', 'State', 46300.0, 85300.0, 44200.0, 61500.0, 119000.0, 170000.0], ['Middlebury College', 'Northeastern', 'Liberal Arts', 47700.0, 94200.0, -1.0, 69100.0, 129000.0, -1.0], ['Minnesota State University - Mankato', 'Midwestern', 'State', 43300.0, 74700.0, 39500.0, 53800.0, 95700.0, 140000.0], ['Mississippi College', 'Southern', 'N/A', 35400.0, 60400.0, -1.0, 43900.0, 80400.0, -1.0], ['Mississippi State University (MSU)', 'Southern', 'State', 44500.0, 79300.0, 43300.0, 58800.0, 108000.0, 151000.0], ['Missouri State University (MSU)', 'Midwestern', 'State', 36100.0, 69500.0, 33300.0, 46900.0, 102000.0, 134000.0], ['Montana State University - Billings', 'Western', 'State', 37900.0, 50600.0, 22600.0, 31800.0, 78500.0, 98900.0], ['Montana State University - Bozeman', 'Western', 'State', 46600.0, 77500.0, 40200.0, 58100.0, 111000.0, 151000.0], ['Moravian College', 'Northeastern', 'Liberal Arts', 42500.0, 74400.0, -1.0, 56700.0, 94900.0, -1.0], ['Morehead State University', 'Southern', 'State', 34800.0, 60600.0, 34300.0, 46500.0, 72000.0, 91300.0], ['Mount Holyoke College', 'Northeastern', 'Liberal Arts', 42400.0, 94100.0, -1.0, 57100.0, 131000.0, -1.0], ['New Mexico Institute of Mining and Technology (New Mexico Tech)', 'Western', 'Engineering', 51000.0, 93400.0, -1.0, 67400.0, 123000.0, -1.0], ['New Mexico State University', 'Western', 'State', 44300.0, 79500.0, 37400.0, 53800.0, 102000.0, 131000.0], ['New York University (NYU)', 'Northeastern', 'N/A', 50300.0, 95600.0, 47500.0, 65000.0, 142000.0, 216000.0], ['Niagara University', 'Northeastern', 'N/A', 36900.0, 69700.0, 44000.0, 57000.0, 92000.0, 128000.0], ['North Carolina State University (NCSU)', 'Southern', 'State', 47200.0, 83300.0, 49200.0, 64800.0, 112000.0, 153000.0], ['North Dakota State University (NDSU)', 'Midwestern', 'State', 45100.0, 77800.0, 39000.0, 55800.0, 100000.0, 123000.0], ['Northeastern University', 'Northeastern', 'N/A', 50500.0, 86400.0, 47100.0, 62700.0, 117000.0, 159000.0], ['Northern Illinois University (NIU)', 'Midwestern', 'State', 43600.0, 80800.0, 43900.0, 60200.0, 111000.0, 161000.0], ['Northwestern University', 'Midwestern', 'N/A', 52700.0, 95900.0, 51900.0, 69100.0, 144000.0, 205000.0], ['Oberlin College', 'Midwestern', 'Liberal Arts', 43400.0, 81600.0, -1.0, 46400.0, 128000.0, -1.0], ['Occidental College', 'California', 'Liberal Arts', 51900.0, 105000.0, -1.0, 54800.0, 157000.0, -1.0], ['Ohio State University (OSU)', 'Midwestern', 'State', 44900.0, 83700.0, 45500.0, 60700.0, 116000.0, 162000.0], ['Ohio University', 'Midwestern', 'State', 42200.0, 73400.0, 36600.0, 52800.0, 106000.0, 150000.0], ['Oklahoma City University', 'Southern', 'N/A', 40000.0, 64300.0, -1.0, 45400.0, 80600.0, -1.0], ['Oklahoma State University', 'Southern', 'State', 42800.0, 80700.0, 40100.0, 56500.0, 114000.0, 151000.0], ['Oregon State University (OSU)', 'Western', 'State', 45100.0, 83300.0, 46900.0, 64000.0, 113000.0, 146000.0], ['Pace University', 'Northeastern', 'N/A', 53200.0, 89700.0, 44200.0, 65400.0, 129000.0, 187000.0], ['Park University', 'Midwestern', 'N/A', 44300.0, 64300.0, 37200.0, 45600.0, 86400.0, 113000.0], ['Penn State - Harrisburg', 'Northeastern', 'State', 45700.0, 74000.0, 44000.0, 53100.0, 104000.0, 150000.0], ['Pennsylvania State University (PSU)', 'Northeastern', 'State', 49900.0, 85700.0, 46300.0, 62000.0, 117000.0, 160000.0], ['Philadelphia University', 'Northeastern', 'N/A', 45100.0, 80300.0, 45800.0, 61900.0, 108000.0, 141000.0], ['Pittsburg State University', 'Midwestern', 'State', 40400.0, 58200.0, 25600.0, 46000.0, 84600.0, 117000.0], ['Polytechnic University of New York, Brooklyn', 'Northeastern', 'Engineering', 62400.0, 114000.0, 66800.0, 94300.0, 143000.0, 190000.0], ['Pomona College', 'California', 'Liberal Arts', 48600.0, 101000.0, -1.0, 63300.0, 161000.0, -1.0], ['Portland State University (PSU)', 'Western', 'State', 42600.0, 70900.0, 40700.0, 52300.0, 94400.0, 123000.0], ['Pratt Institute', 'Northeastern', 'N/A', 43800.0, 89900.0, 48600.0, 65400.0, 123000.0, 155000.0], ['Princeton University', 'Northeastern', 'Ivy League', 66500.0, 131000.0, 68900.0, 100000.0, 190000.0, 261000.0], ['Providence College', 'Northeastern', 'N/A', 48000.0, 88600.0, 42800.0, 62900.0, 138000.0, 194000.0], ['Purdue University', 'Midwestern', 'State', 51400.0, 90500.0, 49900.0, 67400.0, 121000.0, 168000.0], ['Quinnipiac University', 'Northeastern', 'N/A', 43000.0, 76500.0, 47900.0, 57400.0, 117000.0, 155000.0], ['Randolph-Macon College', 'Southern', 'Liberal Arts', 42600.0, 83600.0, -1.0, 54100.0, 123000.0, -1.0], ['Reed College', 'Western', 'Liberal Arts', 40500.0, 81100.0, -1.0, 67400.0, 101000.0, -1.0], ['Regis University', 'Western', 'N/A', 48300.0, 73800.0, 41000.0, 55500.0, 94800.0, 117000.0], ['Rensselaer Polytechnic Institute (RPI)', 'Northeastern', 'Engineering', 61100.0, 110000.0, 71600.0, 85500.0, 140000.0, 182000.0], ['Rice University', 'Southern', 'N/A', 64000.0, 110000.0, 55900.0, 82100.0, 141000.0, 216000.0], ['Rider University', 'Northeastern', 'N/A', 43600.0, 88900.0, 47100.0, 63100.0, 127000.0, 150000.0], ['Robert Morris College (RMC)', 'Midwestern', 'N/A', 38500.0, 68200.0, 37300.0, 47100.0, 95000.0, 128000.0], ['Rochester Institute of Technology (RIT)', 'Northeastern', 'Engineering', 48900.0, 84600.0, 45000.0, 62100.0, 112000.0, 159000.0], ['Roger Williams University', 'Northeastern', 'N/A', 42000.0, 72300.0, 39800.0, 48500.0, 102000.0, 138000.0], ['Rutgers University', 'Northeastern', 'State', 50300.0, 91800.0, 48100.0, 65100.0, 128000.0, 176000.0], ['Sacred Heart University', 'Northeastern', 'N/A', 46000.0, 75300.0, 39700.0, 54800.0, 105000.0, 150000.0], ['Saint Leo University', 'Southern', 'N/A', 40900.0, 57800.0, 34400.0, 41800.0, 80600.0, 113000.0], ['San Diego State University (SDSU)', 'California', 'State', 46200.0, 85200.0, 45500.0, 61800.0, 116000.0, 158000.0], ['San Francisco State University (SFSU)', 'California', 'State', 47300.0, 86400.0, 45100.0, 62700.0, 114000.0, 150000.0], ['San Jose State University (SJSU)', 'California', 'State', 53500.0, 95600.0, 50700.0, 70500.0, 122000.0, 156000.0], ['Seattle University', 'Western', 'N/A', 48300.0, 82800.0, 50600.0, 62400.0, 110000.0, 150000.0], ['Seton Hall University', 'Northeastern', 'N/A', 48900.0, 89200.0, 55700.0, 70600.0, 133000.0, 195000.0], ['Siena College', 'Northeastern', 'Liberal Arts', 45500.0, 85200.0, 38700.0, 58400.0, 129000.0, 189000.0], ['Skidmore College', 'Northeastern', 'Liberal Arts', 41600.0, 74600.0, -1.0, 42800.0, 147000.0, -1.0], ['Smith College', 'Northeastern', 'Liberal Arts', 44000.0, 83900.0, 45100.0, 59800.0, 129000.0, 184000.0], ['South Dakota School of Mines & Technology', 'Midwestern', 'Engineering', 55800.0, 93400.0, 71500.0, 81900.0, 122000.0, 147000.0], ['South Dakota State University (SDSU)', 'Midwestern', 'State', 41100.0, 73500.0, 34100.0, 49900.0, 99400.0, 129000.0], ['Southern Illinois University Carbondale', 'Midwestern', 'State', 43000.0, 72500.0, 38300.0, 51300.0, 99300.0, 139000.0], ['Southern Utah University', 'Western', 'State', 41900.0, 56500.0, 30700.0, 39700.0, 78400.0, 116000.0], ['St. Cloud State University', 'Midwestern', 'State', 41800.0, 71400.0, 38700.0, 49400.0, 101000.0, 126000.0], [\"St. John's University, New York\", 'Northeastern', 'N/A', 48000.0, 93400.0, 48000.0, 65400.0, 124000.0, 181000.0], ['St. Olaf College', 'Midwestern', 'Liberal Arts', 45300.0, 86200.0, 41300.0, 61000.0, 120000.0, 185000.0], ['Stanford University', 'California', 'N/A', 70400.0, 129000.0, 68400.0, 93100.0, 184000.0, 257000.0], ['State University of New York (SUNY) at Albany', 'Northeastern', 'State', 44500.0, 92200.0, 47000.0, 63100.0, 135000.0, 209000.0], ['State University of New York (SUNY) at Buffalo', 'Northeastern', 'State', 46200.0, 81700.0, 45900.0, 61400.0, 110000.0, 147000.0], ['State University of New York (SUNY) at Farmingdale', 'Northeastern', 'State', 47300.0, 84200.0, 50200.0, 59800.0, 110000.0, 162000.0], ['State University of New York (SUNY) at Fredonia', 'Northeastern', 'State', 37800.0, 66200.0, 32800.0, 44200.0, 93300.0, 181000.0], ['State University of New York (SUNY) at Geneseo', 'Northeastern', 'State', 42300.0, 81300.0, 39300.0, 47600.0, 117000.0, 173000.0], ['State University of New York (SUNY) at Oneonta', 'Northeastern', 'State', 37500.0, 76700.0, 40000.0, 54300.0, 97700.0, 155000.0], ['State University of New York (SUNY) at Oswego', 'Northeastern', 'State', 38000.0, 77800.0, 40400.0, 53000.0, 115000.0, 169000.0], ['State University of New York (SUNY) at Plattsburgh', 'Northeastern', 'State', 40800.0, 76200.0, 38400.0, 54100.0, 105000.0, 136000.0], ['State University of New York (SUNY) at Potsdam', 'Northeastern', 'State', 38000.0, 70300.0, 35100.0, 51200.0, 100000.0, 179000.0], ['Stevens Institute of Technology', 'Northeastern', 'Engineering', 60600.0, 105000.0, 68700.0, 81900.0, 138000.0, 185000.0], ['Stony Brook University', 'Northeastern', 'State', 49500.0, 93000.0, 47200.0, 67100.0, 129000.0, 181000.0], ['Suffolk University', 'Northeastern', 'N/A', 42100.0, 74000.0, 48700.0, 57800.0, 95100.0, 145000.0], ['Swarthmore College', 'Northeastern', 'Liberal Arts', 49700.0, 104000.0, -1.0, 67200.0, 167000.0, -1.0], ['Syracuse University', 'Northeastern', 'N/A', 45700.0, 85900.0, 46400.0, 59400.0, 119000.0, 178000.0], ['Tarleton State University (TSU)', 'Southern', 'State', 40800.0, 62400.0, 32100.0, 47400.0, 80400.0, 126000.0], ['Tennessee Technological University', 'Southern', 'Engineering', 46200.0, 80000.0, 42100.0, 62600.0, 99500.0, 121000.0], ['Texas A&M University', 'Southern', 'State', 49700.0, 96100.0, 51100.0, 71300.0, 131000.0, 171000.0], ['Texas Christian University (TCU)', 'Southern', 'N/A', 45100.0, 78100.0, 42600.0, 56600.0, 122000.0, 183000.0], ['Thomas Aquinas College', 'California', 'Liberal Arts', 41500.0, 67500.0, -1.0, 44600.0, 93100.0, -1.0], ['Tulane University', 'Southern', 'N/A', 49100.0, 95800.0, 46500.0, 64400.0, 134000.0, 185000.0], ['Tusculum College', 'Southern', 'N/A', 36900.0, 55500.0, 36200.0, 43000.0, 87300.0, 124000.0], ['Union College', 'Northeastern', 'Liberal Arts', 47200.0, 95800.0, 48700.0, 75200.0, 135000.0, 230000.0], ['University Of Chicago', 'Midwestern', 'N/A', 53400.0, 113000.0, 62200.0, 83300.0, 174000.0, 255000.0], ['University Of Maine', 'Northeastern', 'State', 41200.0, 72100.0, 41700.0, 55600.0, 99300.0, 141000.0], ['University of Akron', 'Midwestern', 'State', 41100.0, 70300.0, 40600.0, 53300.0, 95200.0, 127000.0], ['University of Alabama at Birmingham (UAB)', 'Southern', 'State', 39200.0, 70100.0, 43000.0, 53400.0, 91400.0, 125000.0], ['University of Alabama at Huntsville (UAH)', 'Southern', 'State', 43100.0, 82700.0, 46100.0, 67800.0, 106000.0, 132000.0], ['University of Alabama, Tuscaloosa', 'Southern', 'State', 41300.0, 81400.0, 40100.0, 56500.0, 117000.0, 161000.0], ['University of Alaska, Anchorage', 'Western', 'State', 45900.0, 72600.0, 39800.0, 56600.0, 99300.0, 137000.0], ['University of Arizona', 'Western', 'State', 47500.0, 86100.0, 44800.0, 61700.0, 117000.0, 160000.0], ['University of Arkansas', 'Southern', 'State', 44100.0, 82800.0, 43200.0, 60700.0, 113000.0, 160000.0], ['University of Arkansas - Monticello (UAM)', 'Southern', 'State', 39200.0, 74500.0, 32800.0, 46100.0, 110000.0, 161000.0], ['University of California at Los Angeles (UCLA)', 'California', 'State', 52600.0, 101000.0, 51300.0, 72500.0, 139000.0, 193000.0], ['University of California, Berkeley', 'California', 'State', 59900.0, 112000.0, 59500.0, 81000.0, 149000.0, 201000.0], ['University of California, Davis', 'California', 'State', 52300.0, 99600.0, 52000.0, 71600.0, 135000.0, 202000.0], ['University of California, Irvine (UCI)', 'California', 'State', 48300.0, 96700.0, 47800.0, 66000.0, 123000.0, 172000.0], ['University of California, Riverside (UCR)', 'California', 'State', 46800.0, 81300.0, 37200.0, 59900.0, 109000.0, 134000.0], ['University of California, San Diego (UCSD)', 'California', 'State', 51100.0, 101000.0, 51700.0, 75400.0, 131000.0, 177000.0], ['University of California, Santa Barbara (UCSB)', 'California', 'State', 50500.0, 95000.0, 51300.0, 71200.0, 129000.0, 173000.0], ['University of California, Santa Cruz (UCSC)', 'California', 'State', 44700.0, 84100.0, 46100.0, 62000.0, 121000.0, 165000.0], ['University of Central Florida (UCF)', 'Southern', 'State', 42600.0, 71700.0, 39500.0, 51500.0, 98400.0, 125000.0], ['University of Colorado - Boulder (UCB)', 'Western', 'State', 47100.0, 97600.0, 51600.0, 69000.0, 128000.0, 187000.0], ['University of Colorado - Denver', 'Western', 'State', 46100.0, 84400.0, 46400.0, 58600.0, 105000.0, 144000.0], ['University of Connecticut (UConn)', 'Northeastern', 'State', 48000.0, 88800.0, 46100.0, 66400.0, 120000.0, 162000.0], ['University of Delaware', 'Southern', 'State', 45900.0, 84500.0, 44500.0, 64000.0, 119000.0, 165000.0], ['University of Florida (UF)', 'Southern', 'State', 47100.0, 87900.0, 45400.0, 62900.0, 120000.0, 172000.0], ['University of Georgia (UGA)', 'Southern', 'State', 44100.0, 86000.0, 43100.0, 57800.0, 118000.0, 164000.0], ['University of Hawaii', 'Western', 'State', 43800.0, 76000.0, 40400.0, 56300.0, 104000.0, 128000.0], ['University of Houston (UH)', 'Southern', 'State', 46000.0, 79900.0, 42000.0, 56200.0, 106000.0, 141000.0], ['University of Idaho', 'Western', 'State', 44900.0, 82000.0, 43000.0, 56700.0, 104000.0, 142000.0], ['University of Illinois at Chicago', 'Midwestern', 'State', 47500.0, 81700.0, 44700.0, 58800.0, 110000.0, 146000.0], ['University of Illinois at Urbana-Champaign (UIUC)', 'Midwestern', 'State', 52900.0, 96100.0, 48200.0, 68900.0, 132000.0, 177000.0], ['University of Iowa (UI)', 'Midwestern', 'State', 44700.0, 83900.0, 43300.0, 61100.0, 116000.0, 163000.0], ['University of Kansas', 'Midwestern', 'State', 42400.0, 81600.0, 44800.0, 57200.0, 115000.0, 156000.0], ['University of Kentucky (UK)', 'Southern', 'State', 42800.0, 78300.0, 43000.0, 57300.0, 107000.0, 149000.0], ['University of Louisiana (UL) at Lafayette', 'Southern', 'State', 41100.0, 76300.0, 42000.0, 54500.0, 107000.0, 163000.0], ['University of Maryland Baltimore County (UMBC)', 'Southern', 'State', 47000.0, 77800.0, 46900.0, 59100.0, 105000.0, 130000.0], ['University of Maryland, College Park', 'Southern', 'State', 52000.0, 95000.0, 50400.0, 68300.0, 126000.0, 166000.0], ['University of Massachusetts (UMass) - Amherst', 'Northeastern', 'State', 46600.0, 88200.0, 43100.0, 61300.0, 122000.0, 168000.0], ['University of Massachusetts (UMass) - Boston', 'Northeastern', 'State', 45600.0, 78200.0, 36300.0, 53800.0, 109000.0, 151000.0], ['University of Massachusetts (UMass) - Dartmouth', 'Northeastern', 'State', 43200.0, 77700.0, 43300.0, 56200.0, 107000.0, 132000.0], ['University of Massachusetts (UMass) - Lowell', 'Northeastern', 'State', 45400.0, 86600.0, 50900.0, 65000.0, 113000.0, 158000.0], ['University of Memphis (U of M)', 'Southern', 'State', 41400.0, 69700.0, 36100.0, 49100.0, 93500.0, 127000.0], ['University of Michigan', 'Midwestern', 'State', 52700.0, 93000.0, 50900.0, 69400.0, 128000.0, 182000.0], ['University of Minnesota', 'Midwestern', 'State', 46200.0, 84200.0, 49000.0, 63200.0, 112000.0, 148000.0], ['University of Mississippi', 'Southern', 'State', 41400.0, 79700.0, 40400.0, 53500.0, 108000.0, 186000.0], ['University of Missouri - Columbia', 'Midwestern', 'State', 41700.0, 81000.0, 43500.0, 57100.0, 111000.0, 156000.0], ['University of Missouri - Kansas City (UMKC)', 'Midwestern', 'State', 38900.0, 65800.0, 36300.0, 48100.0, 95800.0, 124000.0], ['University of Missouri - Rolla (UMR)', 'Midwestern', 'State', 57100.0, 95800.0, 67600.0, 80400.0, 122000.0, 166000.0], ['University of Missouri - St. Louis (UMSL)', 'Midwestern', 'State', 41400.0, 67100.0, 36800.0, 49600.0, 97600.0, 144000.0], ['University of Montana', 'Western', 'State', 37300.0, 71900.0, 37000.0, 51500.0, 96400.0, 138000.0], ['University of Nebraska', 'Midwestern', 'State', 45700.0, 80900.0, 42200.0, 56600.0, 113000.0, 156000.0], ['University of Nebraska at Omaha', 'Midwestern', 'State', 41500.0, 72600.0, 39500.0, 54400.0, 97400.0, 126000.0], ['University of Nevada, Las Vegas (UNLV)', 'Western', 'State', 45200.0, 71600.0, 39000.0, 52400.0, 100000.0, 128000.0], ['University of Nevada, Reno (UNR)', 'Western', 'State', 46500.0, 82900.0, 41900.0, 54600.0, 113000.0, 143000.0], ['University of New Hampshire (UNH)', 'Northeastern', 'State', 41800.0, 78300.0, 41700.0, 56400.0, 114000.0, 147000.0], ['University of New Haven', 'Northeastern', 'N/A', 44400.0, 82900.0, 48500.0, 66100.0, 113000.0, 157000.0], ['University of New Mexico (UNM)', 'Western', 'State', 41600.0, 81600.0, 41800.0, 59100.0, 105000.0, 141000.0], ['University of North Carolina at Chapel Hill (UNCH)', 'Southern', 'State', 42900.0, 81500.0, 43400.0, 57500.0, 117000.0, 155000.0], ['University of North Carolina at Charlotte (UNCC)', 'Southern', 'State', 43100.0, 74000.0, 38200.0, 53200.0, 99500.0, 133000.0], ['University of North Carolina at Wilmington (UNCW)', 'Southern', 'State', 37500.0, 64400.0, 32100.0, 46600.0, 97100.0, 129000.0], ['University of North Dakota', 'Midwestern', 'State', 44000.0, 80600.0, 43400.0, 56400.0, 111000.0, 157000.0], ['University of Notre Dame', 'Midwestern', 'N/A', 56300.0, 116000.0, 66400.0, 85100.0, 163000.0, 235000.0], ['University of Oklahoma', 'Southern', 'State', 44700.0, 82900.0, 41200.0, 60300.0, 114000.0, 167000.0], ['University of Oregon', 'Western', 'State', 42200.0, 78400.0, 38100.0, 56200.0, 117000.0, 186000.0], ['University of Pennsylvania', 'Northeastern', 'Ivy League', 60900.0, 120000.0, 55900.0, 79200.0, 192000.0, 282000.0], ['University of Puget Sound', 'Western', 'Liberal Arts', 46600.0, 81500.0, 48900.0, 60100.0, 104000.0, 137000.0], ['University of Rhode Island (URI)', 'Northeastern', 'State', 43900.0, 85300.0, 45400.0, 60100.0, 112000.0, 157000.0], ['University of Richmond', 'Southern', 'Liberal Arts', 48600.0, 94600.0, 44500.0, 59400.0, 151000.0, 211000.0], ['University of South Carolina', 'Southern', 'State', 40000.0, 71700.0, 36300.0, 49900.0, 98400.0, 131000.0], ['University of South Florida (USF)', 'Southern', 'State', 41100.0, 71100.0, 39600.0, 51500.0, 98100.0, 131000.0], ['University of Southern California (USC)', 'California', 'N/A', 54800.0, 99600.0, 49700.0, 73800.0, 140000.0, 201000.0], ['University of Southern Maine', 'Northeastern', 'State', 39400.0, 63600.0, 40400.0, 47900.0, 85700.0, 117000.0], ['University of Tennessee', 'Southern', 'State', 43800.0, 74600.0, 41900.0, 53200.0, 106000.0, 153000.0], ['University of Texas (UT) - Austin', 'Southern', 'State', 49700.0, 93900.0, 50100.0, 67400.0, 129000.0, 188000.0], ['University of Texas at Arlington (UTA)', 'Southern', 'State', 45400.0, 80800.0, 46400.0, 61200.0, 106000.0, 138000.0], ['University of Texas at El Paso (UTEP)', 'Southern', 'State', 43400.0, 72100.0, 37700.0, 50400.0, 99500.0, 133000.0], ['University of Texas at San Antonio (UTSA)', 'Southern', 'State', 42500.0, 70700.0, 39100.0, 49800.0, 92700.0, 121000.0], ['University of Toledo', 'Midwestern', 'State', 43100.0, 75900.0, 40100.0, 54100.0, 100000.0, 133000.0], ['University of Tulsa', 'Southern', 'N/A', 42400.0, 88700.0, 42300.0, 60300.0, 120000.0, 197000.0], ['University of Utah', 'Western', 'State', 45400.0, 83200.0, 43000.0, 58400.0, 116000.0, 148000.0], ['University of Vermont (UVM)', 'Northeastern', 'State', 44800.0, 82700.0, 44700.0, 58000.0, 122000.0, 194000.0], ['University of Virginia (UVA)', 'Southern', 'State', 52700.0, 103000.0, 52200.0, 71800.0, 146000.0, 215000.0], ['University of Washington (UW)', 'Western', 'State', 48800.0, 85300.0, 47000.0, 59800.0, 115000.0, 149000.0], ['University of Wisconsin (UW) - Eau Claire', 'Midwestern', 'State', 41400.0, 64800.0, 35000.0, 47300.0, 93100.0, 125000.0], ['University of Wisconsin (UW) - Green Bay', 'Midwestern', 'State', 35800.0, 60600.0, 35500.0, 46800.0, 81800.0, 102000.0], ['University of Wisconsin (UW) - La Crosse', 'Midwestern', 'State', 42200.0, 69300.0, 37500.0, 47200.0, 93100.0, 133000.0], ['University of Wisconsin (UW) - Madison', 'Midwestern', 'State', 48900.0, 87800.0, 47400.0, 62400.0, 118000.0, 170000.0], ['University of Wisconsin (UW) - Milwaukee', 'Midwestern', 'State', 42300.0, 74600.0, 40600.0, 54000.0, 93700.0, 123000.0], ['University of Wisconsin (UW) - Oshkosh', 'Midwestern', 'State', 39300.0, 66400.0, 37700.0, 49700.0, 90100.0, 138000.0], ['University of Wisconsin (UW) - Parkside', 'Midwestern', 'State', 40700.0, 71400.0, 40900.0, 53100.0, 84900.0, 119000.0], ['University of Wisconsin (UW) - Platteville', 'Midwestern', 'State', 45800.0, 78500.0, 48400.0, 61200.0, 100000.0, 139000.0], ['University of Wisconsin (UW) - Stevens Point', 'Midwestern', 'State', 39800.0, 64000.0, 38400.0, 45100.0, 95400.0, 128000.0], ['University of Wisconsin (UW) - Stout', 'Midwestern', 'State', 43600.0, 68300.0, 40900.0, 50600.0, 91600.0, 136000.0], ['University of Wisconsin (UW) - Whitewater', 'Midwestern', 'State', 40800.0, 75500.0, 38200.0, 53500.0, 99300.0, 150000.0], ['University of Wyoming (UW)', 'Western', 'State', 44500.0, 78700.0, 41500.0, 54000.0, 105000.0, 145000.0], ['Ursinus College', 'Northeastern', 'Liberal Arts', 42100.0, 80000.0, 35600.0, 54300.0, 100000.0, 160000.0], ['Utah State University', 'Western', 'State', 43800.0, 78700.0, 41600.0, 55400.0, 101000.0, 132000.0], ['Utah Valley State College', 'Western', 'State', 42400.0, 67100.0, 27000.0, 44100.0, 84900.0, 110000.0], ['Vanderbilt University', 'Southern', 'N/A', 51200.0, 104000.0, 49900.0, 68100.0, 147000.0, 222000.0], ['Vassar College', 'Northeastern', 'Liberal Arts', 46000.0, 94600.0, -1.0, 60600.0, 123000.0, -1.0], ['Villanova University', 'Northeastern', 'N/A', 55800.0, 101000.0, 56800.0, 76200.0, 156000.0, 226000.0], ['Virginia Commonwealth University (VCU)', 'Southern', 'State', 42000.0, 68400.0, 37400.0, 51900.0, 100000.0, 123000.0], ['Virginia Polytechnic Institute and State University (Virginia Tech)', 'Southern', 'Engineering', 53500.0, 95400.0, 50600.0, 71400.0, 124000.0, 163000.0], ['Virginia Wesleyan College (VWC)', 'Southern', 'N/A', 34600.0, 54900.0, -1.0, 37100.0, 88900.0, -1.0], ['Washington State University (WSU)', 'Western', 'State', 45300.0, 84700.0, 43600.0, 59000.0, 113000.0, 162000.0], ['Washington and Lee University', 'Southern', 'Liberal Arts', 53600.0, 104000.0, -1.0, 82800.0, 146000.0, -1.0], ['Wayne State University', 'Midwestern', 'State', 42800.0, 76100.0, 40100.0, 56200.0, 101000.0, 139000.0], ['Wellesley College', 'Northeastern', 'Liberal Arts', 42800.0, 83500.0, -1.0, 58600.0, 125000.0, -1.0], ['Wentworth Institute of Technology', 'Northeastern', 'Engineering', 53000.0, 96700.0, 55200.0, 74000.0, 117000.0, 153000.0], ['Wesleyan University (Middletown, Connecticut)', 'Northeastern', 'Liberal Arts', 46500.0, 97900.0, 42000.0, 62500.0, 126000.0, 215000.0], ['West Virginia University (WVU)', 'Southern', 'State', 43100.0, 78100.0, 39700.0, 55700.0, 106000.0, 141000.0], ['Western Carolina University', 'Southern', 'State', 36900.0, 66600.0, 39000.0, 49500.0, 94400.0, 133000.0], ['Western Michigan University (WMU)', 'Midwestern', 'State', 42300.0, 73800.0, 40100.0, 52500.0, 103000.0, 135000.0], ['Western Washington University', 'Western', 'State', 42700.0, 75400.0, 41300.0, 56700.0, 99200.0, 119000.0], ['Whitman College', 'Western', 'Liberal Arts', 43500.0, 80100.0, -1.0, 64800.0, 111000.0, -1.0], ['Widener University', 'Northeastern', 'N/A', 52900.0, 83400.0, 42600.0, 61400.0, 106000.0, 138000.0], ['Williams College', 'Northeastern', 'Liberal Arts', 51700.0, 102000.0, -1.0, 76400.0, 143000.0, -1.0], ['Wittenberg University', 'Midwestern', 'Liberal Arts', 39200.0, 78200.0, -1.0, 54100.0, 131000.0, -1.0], ['Worcester Polytechnic Institute (WPI)', 'Northeastern', 'Engineering', 61000.0, 114000.0, 80000.0, 91200.0, 137000.0, 180000.0], ['Yale University', 'Northeastern', 'Ivy League', 59100.0, 126000.0, 58000.0, 80600.0, 198000.0, 326000.0]]\n"
     ]
    }
   ],
   "source": [
    "from problem_01_fn import *\n",
    "\n",
    "write_colleges(college_fpath, salary_headers, college_dict, type_to_colleges, region_to_colleges)\n",
    "\n",
    "#write_colleges(college_fpath, salary_headers, college_dict, type_to_colleges, region_to_colleges)"
   ]
  },
  {
   "cell_type": "code",
   "execution_count": null,
   "metadata": {},
   "outputs": [],
   "source": []
  }
 ],
 "metadata": {
  "kernelspec": {
   "display_name": "Python 3",
   "language": "python",
   "name": "python3"
  },
  "language_info": {
   "codemirror_mode": {
    "name": "ipython",
    "version": 3
   },
   "file_extension": ".py",
   "mimetype": "text/x-python",
   "name": "python",
   "nbconvert_exporter": "python",
   "pygments_lexer": "ipython3",
   "version": "3.6.4"
  }
 },
 "nbformat": 4,
 "nbformat_minor": 2
}
